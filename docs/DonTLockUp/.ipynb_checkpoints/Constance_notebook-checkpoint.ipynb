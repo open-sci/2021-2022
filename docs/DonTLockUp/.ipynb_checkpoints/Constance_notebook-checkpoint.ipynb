{
 "cells": [
  {
   "cell_type": "markdown",
   "id": "75da9b0e",
   "metadata": {},
   "source": [
    "# Open Science project 2021-22 personal diary\n",
    "## Team Don't lock up\n",
    "\n",
    "## 28-03-22 First research on the topics\n",
    "I did some research on OpenCitations' COCI and DOAJ in order to produce a first draft of an abstract to bring to the first team meeting"
   ]
  },
  {
   "cell_type": "code",
   "execution_count": null,
   "id": "3e1da5b8",
   "metadata": {},
   "outputs": [],
   "source": []
  }
 ],
 "metadata": {
  "kernelspec": {
   "display_name": "Python 3 (ipykernel)",
   "language": "python",
   "name": "python3"
  },
  "language_info": {
   "codemirror_mode": {
    "name": "ipython",
    "version": 3
   },
   "file_extension": ".py",
   "mimetype": "text/x-python",
   "name": "python",
   "nbconvert_exporter": "python",
   "pygments_lexer": "ipython3",
   "version": "3.9.0"
  }
 },
 "nbformat": 4,
 "nbformat_minor": 5
}
