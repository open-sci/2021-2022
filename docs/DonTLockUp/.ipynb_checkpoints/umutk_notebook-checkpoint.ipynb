{
 "cells": [
  {
   "cell_type": "markdown",
   "id": "7e4d9eac-2acf-4d0c-8bf0-7243e1a2c0de",
   "metadata": {},
   "source": [
    "# 25.03.2022\n",
    "\n",
    "Installation"
   ]
  },
  {
   "cell_type": "markdown",
   "id": "6ef299fe-adfa-4a6d-b4b1-ad1362f3bcc0",
   "metadata": {
    "tags": []
   },
   "source": [
    "# 28.03.2022\n",
    "\n",
    "I used some resources from the course's main github repository to gain some preliminary information and broaden my understanding on the open science domain.\n",
    "\n",
    "**Some insights on the video titled:**[\"Let's talk about...Open Science Infrastructure with Peter Suber\"](https://www.youtube.com/watch?v=GwSoFKFCjic&ab_channel=SPARCEurope)\n",
    "\n",
    "Peter Suber admits that the open access infrastructure is a broad term and he uses a specific phrase in order to desribe it:*\"software running on hardware\"*. According to Suber after the pandemic, the importance of the open access became more visible and the demand has increased. He thinks that this is a permanent trend rather than a temporal one. One problematic issue he highlights is the growing demand for open access is not following for the open access infrastructures. This is because some libraries are not aware of the link between open content and open access infrastructures. Therefore, they prefer to pay for content directly, rather than an infrastructure that can provide much more open content. In the opinion of Suber, there are two risks that an unsupported infrastructure can face. They may be closed or purchased by a private company.\n",
    "\n",
    "**insights on the video titled:**[\"Let's talk about.... Open Science Infrastructure with Kaitlin Thaney\"](https://www.youtube.com/watch?v=kFk2hbtwmqU&ab_channel=SPARCEurope)\n",
    "\n",
    "Kaitlin Thaney, describes open infrastructures as a series of systems of open services, protocols and software that research and scholarship relying on. Both Thaney and Suber use the same example in order to stress the importance of the open infrastructures, they liken the open infrastructures to infrastructures like the roads and bridges we use in our daily lives. We need open access infrastructures for moving, transporting and accessing the data. Open Access Infrastructures are the main channels for making science open and accessible to all.\n",
    "\n",
    "According to Thaney, the balance between non-profit institutes and commercial organizations is important. An important aspect for future development is mapping the opportunities to expand resources. Understanding the mechanisms and relationships between infrastructures and funding organizations is essential.\n",
    "\n",
    "## DOAJ\n",
    "\n",
    "**To better understand the research questions introduced in the first lecture, I focused on DOAJ and gathered some information about it.**\n",
    "\n",
    "[DOAJ stands for The Directory of Open Access Journals](https://doaj.org/about/). It is a hosting web-site for the open access journals. DOAJ is maintaining by [IS4OA](https://en.wikipedia.org/wiki/Directory_of_Open_Access_Journals) which it stands for Infrastructure Services for Open Access. IS4OA is a non-profit company that carries out public benefit works in the Open Access domain. DOAJ's main purpose is contributing to the open science in every discipline. It contains *\"almost 17500 peer-reviewed, open access journals covering all areas of science, technology, medicine, social sciences, arts and humanities.\"* It is possible to access the journals in different languages coming from several countries. "
   ]
  },
  {
   "cell_type": "markdown",
   "id": "ef430f41-2989-4529-94f3-2aa8c4d6e939",
   "metadata": {
    "jp-MarkdownHeadingCollapsed": true,
    "tags": []
   },
   "source": [
    "# 29.03.2022\n",
    "\n",
    "**In order to contribute to the group meeting to be held on Wednesday, I prepared some notes for writing the Abstract based on the article.** [\"How to Write an article abstract\"](https://www.emeraldgrouppublishing.com/how-to/authoring-editing-reviewing/write-article-abstract)\n",
    "\n",
    "Based on the article, it is important to demonstrate the purpose of the study in a clear way. In this part we can address the research questions directly. The main purpose of an academic study is shaped by questions. \n",
    "\n",
    "An assumption I can make at this point is that the methods will mostly rely on computational approaches, tools, and datasets. \n",
    "\n",
    "It may be very difficult to mention or comment on the findings at this time, but can be updated with the initial results of the research. \n",
    "\n",
    "For the originality of the study, I think we can once again refer to the research questions as our base case and reference. Some keywords that can be useful: citation, open access journals, DOAJ, OpenCitations, trends of availability"
   ]
  },
  {
   "cell_type": "markdown",
   "id": "d98952a2-f228-4696-8140-a22f5379c9c9",
   "metadata": {},
   "source": [
    "# 06.04.2022\n",
    "\n",
    "We held a group meeting to create our first version of DMP. After the production, according to the Horizon 2020 template by utilizing Argos OpenAIRE we published the data managment plan on Zenodo. DOI: https://doi.org/10.5281/zenodo.6417368"
   ]
  },
  {
   "cell_type": "markdown",
   "id": "dd1751bc-1af3-48c6-9f64-b5e058f187a5",
   "metadata": {},
   "source": [
    "# 10.04.2022\n",
    "\n",
    "In order to create the firs version of our protocol we hel a group meeting. And we published on protocols.io: dx.doi.org/10.17504/protocols.io.n92ldz598v5b/v1"
   ]
  },
  {
   "cell_type": "markdown",
   "id": "88fc8f31-771b-441a-a925-d9f9bb143ed0",
   "metadata": {},
   "source": [
    "# 11.04.2022\n",
    "\n",
    "Preliminary research has been done for making an academic review on a data management plan of the team La Chouffe. A draft that includes most parts of the review has been created."
   ]
  },
  {
   "cell_type": "markdown",
   "id": "8297b1b8-b3a1-42fb-a035-d0d5293e3102",
   "metadata": {},
   "source": [
    "# 12.04.2022\n",
    "\n",
    "I finished the review for the first version of the data management plan for the team La Chouffe and, I published the document on Qeios: https://doi.org/10.32388/PP47IN"
   ]
  },
  {
   "cell_type": "markdown",
   "id": "4f7661ba-7b7d-4b23-bd1c-d28a9dc40781",
   "metadata": {},
   "source": [
    "# 14.04.2022\n",
    "\n",
    "I watched a [recording] (https://www.youtube.com/watch?v=mWOJ10b0xv4&ab_channel=Lis-BibliometricsCommunity) of a workshop on OpenCitations held by Prof. Peroni. It was useful to understand aim of the organization and its overall aspects such as the datasets, and the data model. Addition to this I watched a [presentation] (https://www.youtube.com/watch?v=l4EHwxFMefU&ab_channel=ZeebaTV) about COCI by Ivan Heibi."
   ]
  },
  {
   "cell_type": "markdown",
   "id": "a385016a-402e-43f0-ba11-c7b4ad028c6e",
   "metadata": {},
   "source": [
    "# 19.04.2022\n",
    "\n",
    "We had a team meeting for revising and updating the protocol. Updated protocol can be found [here](https://www.protocols.io/view/coverage-of-open-citations-in-doaj-journals-n92ldz598v5b/v2?version_warning=no)."
   ]
  },
  {
   "cell_type": "markdown",
   "id": "21c9af86-de29-4070-84e3-a35b1336de90",
   "metadata": {},
   "source": [
    "# 24.04.2022\n",
    "\n",
    "I did some preliminary research to understand what the appropriate possibilities are for deciding on the license of the software. Apparantly there are 200 open-source licenses and around 100 of them are approved by Open Source Initiative. MIT, Apache, MPL, GPL are the most used ones. Permissive licenses guarantee developers the freedom to use, modify, and redistribute while also permitting proprietary derivative works. ISC has the least text, MIT is the most popular. Angular, React, VueJS use MIT. Copyleft licenses have more restirictions."
   ]
  },
  {
   "cell_type": "markdown",
   "id": "664cc30f-8bcf-478f-aff3-723aa3ea2bd9",
   "metadata": {},
   "source": [
    "# 26.04.2022\n",
    "\n",
    "We held a team meeting for revising our Data Management Plan according to the Review written by Giulia Venditti and Davide Brembilla. We also wrote a rebuttal letter for addressing the review and the changes that we made. We deposited on Zenodo both the new version of [DMP](https://zenodo.org/record/6491184#.Yn_Zc-hBxPY) and the [rebuttal letter](https://zenodo.org/record/6492439#.Yn_ZauhBxPY)"
   ]
  },
  {
   "cell_type": "markdown",
   "id": "9baf19cb-5cf2-42fb-adfb-b283fabf5af2",
   "metadata": {},
   "source": [
    "# 03.05.2022\n",
    "\n",
    "I started to work on the literature. There are some related works on DOAJ even though they are not exact matches it is worth mentioning. Most studies on DOAJ select a specific field such as medicine, economics and apply a language filter. There are some studies on preadotary OA journals, there may be a relationship, we can check it after the first results. I will add more details about related literature."
   ]
  },
  {
   "cell_type": "markdown",
   "id": "7a1c5aaa-d17b-451e-b87e-147d8826ea49",
   "metadata": {},
   "source": [
    "# 08.05.2022\n",
    "\n",
    "I wrote my part of the rebuttal letter that addresses the review of our protocol written by Chiara Catizone. Rebuttal letter can be found on the following [link](https://zenodo.org/record/6533180#.Yn_a2ehBxPY)"
   ]
  },
  {
   "cell_type": "markdown",
   "id": "918116af-9f6d-4091-a0c1-d328fca0808b",
   "metadata": {},
   "source": [
    "# 10.05.2022\n",
    "\n",
    "I started to write the new version of our abstract and the structure of the article. I found useful soruces explain how to use APA 7th edition easily. Can be found [here](https://www.youtube.com/watch?v=VrrmziZTF4c&ab_channel=HumberLibraries) and [here](https://www.youtube.com/watch?v=xXn2UITEqlo&ab_channel=HumberLibraries)."
   ]
  },
  {
   "cell_type": "markdown",
   "id": "1fd3a16f-b938-43cf-a537-cc88683b06a6",
   "metadata": {},
   "source": [
    "# 13.05.2022\n",
    "\n",
    "I updated the abstract. We had a team meeting. I continued with literature research and I started writing the intro of the article. I need to add related works, materials and methods part"
   ]
  },
  {
   "cell_type": "code",
   "execution_count": null,
   "id": "4d1d38e4-bed2-469e-8b62-04bdeaf171a5",
   "metadata": {},
   "outputs": [],
   "source": []
  }
 ],
 "metadata": {
  "kernelspec": {
   "display_name": "Python 3 (ipykernel)",
   "language": "python",
   "name": "python3"
  },
  "language_info": {
   "codemirror_mode": {
    "name": "ipython",
    "version": 3
   },
   "file_extension": ".py",
   "mimetype": "text/x-python",
   "name": "python",
   "nbconvert_exporter": "python",
   "pygments_lexer": "ipython3",
   "version": "3.10.1"
  }
 },
 "nbformat": 4,
 "nbformat_minor": 5
}
