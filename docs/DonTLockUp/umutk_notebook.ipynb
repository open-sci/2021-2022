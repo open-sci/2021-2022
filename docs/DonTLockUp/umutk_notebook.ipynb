{
 "cells": [
  {
   "cell_type": "markdown",
   "id": "7e4d9eac-2acf-4d0c-8bf0-7243e1a2c0de",
   "metadata": {},
   "source": [
    "# 25.03.2022\n",
    "\n",
    "Installation"
   ]
  },
  {
   "cell_type": "markdown",
   "id": "6ef299fe-adfa-4a6d-b4b1-ad1362f3bcc0",
   "metadata": {
    "tags": []
   },
   "source": [
    "# 28.03.2022\n",
    "\n",
    "I used some resources from the course's main github repository to gain some preliminary information and broaden my understanding on the open science domain.\n",
    "\n",
    "**Some insights on the video titled:**[\"Let's talk about...Open Science Infrastructure with Peter Suber\"](https://www.youtube.com/watch?v=GwSoFKFCjic&ab_channel=SPARCEurope)\n",
    "\n",
    "Peter Suber admits that the open access infrastructure is a broad term and he uses a specific phrase in order to desribe it:*\"software running on hardware\"*. According to Suber after the pandemic, the importance of the open access became more visible and the demand has increased. He thinks that this is a permanent trend rather than a temporal one. One problematic issue he highlights is the growing demand for open access is not following for the open access infrastructures. This is because some libraries are not aware of the link between open content and open access infrastructures. Therefore, they prefer to pay for content directly, rather than an infrastructure that can provide much more open content. In the opinion of Suber, there are two risks that an unsupported infrastructure can face. They may be closed or purchased by a private company.\n",
    "\n",
    "**insights on the video titled:**[\"Let's talk about.... Open Science Infrastructure with Kaitlin Thaney\"](https://www.youtube.com/watch?v=kFk2hbtwmqU&ab_channel=SPARCEurope)\n",
    "\n",
    "Kaitlin Thaney, describes open infrastructures as a series of systems of open services, protocols and software that research and scholarship relying on. Both Thaney and Suber use the same example in order to stress the importance of the open infrastructures, they liken the open infrastructures to infrastructures like the roads and bridges we use in our daily lives. We need open access infrastructures for moving, transporting and accessing the data. Open Access Infrastructures are the main channels for making science open and accessible to all.\n",
    "\n",
    "According to Thaney, the balance between non-profit institutes and commercial organizations is important. An important aspect for future development is mapping the opportunities to expand resources. Understanding the mechanisms and relationships between infrastructures and funding organizations is essential.\n",
    "\n",
    "## DOAJ\n",
    "\n",
    "**To better understand the research questions introduced in the first lecture, I focused on DOAJ and gathered some information about it.**\n",
    "\n",
    "[DOAJ stands for The Directory of Open Access Journals](https://doaj.org/about/). It is a hosting web-site for the open access journals. DOAJ is maintaining by [IS4OA](https://en.wikipedia.org/wiki/Directory_of_Open_Access_Journals) which it stands for Infrastructure Services for Open Access. IS4OA is a non-profit company that carries out public benefit works in the Open Access domain. DOAJ's main purpose is contributing to the open science in every discipline. It contains *\"almost 17500 peer-reviewed, open access journals covering all areas of science, technology, medicine, social sciences, arts and humanities.\"* It is possible to access the journals in different languages coming from several countries. "
   ]
  },
  {
   "cell_type": "markdown",
   "id": "ef430f41-2989-4529-94f3-2aa8c4d6e939",
   "metadata": {
    "jp-MarkdownHeadingCollapsed": true,
    "tags": []
   },
   "source": [
    "# 29.03.2022\n",
    "\n",
    "**In order to contribute to the group meeting to be held on Wednesday, I prepared some notes for writing the Abstract based on the article.** [\"How to Write an article abstract\"](https://www.emeraldgrouppublishing.com/how-to/authoring-editing-reviewing/write-article-abstract)\n",
    "\n",
    "Based on the article, it is important to demonstrate the purpose of the study in a clear way. In this part we can address the research questions directly. The main purpose of an academic study is shaped by questions. \n",
    "\n",
    "An assumption I can make at this point is that the methods will mostly rely on computational approaches, tools, and datasets. \n",
    "\n",
    "It may be very difficult to mention or comment on the findings at this time, but can be updated with the initial results of the research. \n",
    "\n",
    "For the originality of the study, I think we can once again refer to the research questions as our base case and reference. Some keywords that can be useful: citation, open access journals, DOAJ, OpenCitations, trends of availability"
   ]
  },
  {
   "cell_type": "markdown",
   "id": "d98952a2-f228-4696-8140-a22f5379c9c9",
   "metadata": {},
   "source": [
    "# 06.04.2022\n",
    "\n",
    "We held a group meeting to create our first version of DMP. After the production, according to the Horizon 2020 template by utilizing Argos OpenAIRE we published the data managment plan on Zenodo. DOI: https://doi.org/10.5281/zenodo.6417368"
   ]
  },
  {
   "cell_type": "markdown",
   "id": "dd1751bc-1af3-48c6-9f64-b5e058f187a5",
   "metadata": {},
   "source": [
    "# 10.04.2022\n",
    "\n",
    "In order to create the firs version of our protocol we hel a group meeting. And we published on protocols.io: dx.doi.org/10.17504/protocols.io.n92ldz598v5b/v1"
   ]
  },
  {
   "cell_type": "markdown",
   "id": "88fc8f31-771b-441a-a925-d9f9bb143ed0",
   "metadata": {},
   "source": [
    "# 11.04.2022\n",
    "\n",
    "Preliminary research has been done for making an academic review on a data management plan of the team La Chouffe. A draft that includes most parts of the review has been created."
   ]
  },
  {
   "cell_type": "markdown",
   "id": "8297b1b8-b3a1-42fb-a035-d0d5293e3102",
   "metadata": {},
   "source": [
    "# 12.04.2022\n",
    "\n",
    "I finished the review for the first version of the data management plan for the team La Chouffe and, I published the document on Qeios: https://doi.org/10.32388/PP47IN"
   ]
  },
  {
   "cell_type": "code",
   "execution_count": null,
   "id": "9165e698-8fb1-4e12-bd66-8255928df20f",
   "metadata": {},
   "outputs": [],
   "source": []
  }
 ],
 "metadata": {
  "kernelspec": {
   "display_name": "Python 3 (ipykernel)",
   "language": "python",
   "name": "python3"
  },
  "language_info": {
   "codemirror_mode": {
    "name": "ipython",
    "version": 3
   },
   "file_extension": ".py",
   "mimetype": "text/x-python",
   "name": "python",
   "nbconvert_exporter": "python",
   "pygments_lexer": "ipython3",
   "version": "3.10.1"
  }
 },
 "nbformat": 4,
 "nbformat_minor": 5
}
