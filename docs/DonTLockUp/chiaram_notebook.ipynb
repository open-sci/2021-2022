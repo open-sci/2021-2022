{
 "cells": [
  {
   "cell_type": "markdown",
   "id": "06a2dfe6-9707-4009-99e1-9ff651a09074",
   "metadata": {},
   "source": [
    "# Chiara Manca Open Science Laboratory Notebook"
   ]
  },
  {
   "cell_type": "markdown",
   "id": "799f0ab4-1550-453e-91d8-05a1e7fd5cb0",
   "metadata": {},
   "source": [
    "This is Chiara Manca's laboratory notebook for the **Open Science** course of 21/22. It will follow the creation of the project of the Don't Lock Up group."
   ]
  },
  {
   "cell_type": "markdown",
   "id": "71def3f7-3ad9-41e6-841f-22c2f5a69366",
   "metadata": {},
   "source": [
    "### Table of Contents\n",
    "* [28.03.2022: organization with the group, first steps](#28.03.2022)\n",
    "* [30.03.2022: first draft abstract](#30.03.2022)\n",
    "* [1.04.2022: research before DMP](#1.04.2022)\n",
    "* [6.04.2022: first version of DMP, notes for review](#6.04.2022)\n",
    "* [10.04.2022: first version of workflow protocol](#10.04.2022)\n",
    "* [11.04.2022: starting the DMP review](#11.04.2022)\n",
    "* [13.04.2022: DMP review, research](#13.04.2022)\n",
    "* [19.04.2022 - 21.04.2022: new version of protocol](#19.21.04.2022)\n",
    "* [22.04.2022 - 26.04.2022: rebuttal letter, new version DMP](#22.26.04.2022)"
   ]
  },
  {
   "cell_type": "markdown",
   "id": "fcdfe20f-b4d0-49ed-bd4c-0a27b26ae0dd",
   "metadata": {},
   "source": [
    "## <a name=\"28.03.2022\"> 28.03.2022: organization with the group, first steps</a>"
   ]
  },
  {
   "cell_type": "markdown",
   "id": "97bef1fa-5c23-42de-bccb-32cd8f9f46f3",
   "metadata": {},
   "source": [
    "Today we agreed with the group to see each other the morning before the lesson to write down the abstract. And that these days each one of us will do some research preparing for that day."
   ]
  },
  {
   "cell_type": "markdown",
   "id": "66f19e6b-e649-437a-94cc-37a141698476",
   "metadata": {},
   "source": [
    "--------------------"
   ]
  },
  {
   "cell_type": "markdown",
   "id": "90ed632a-77c6-4a57-988c-c5f029989593",
   "metadata": {},
   "source": [
    "I started with re-reading our research question and highlighting some key words: **counting cited and citing**, **open access journals**, **DOAJ**, **OpenCitations**, **availability**.\n",
    "\n",
    "Then I read the [Emerald publishing guidelines](https://www.emeraldgrouppublishing.com/how-to/authoring-editing-reviewing/write-article-abstract). Some important information that I gathered that I need to remember:\n",
    "* tipically maximum of 250 words;\n",
    "* make sure that the purpose is clear, followed by the methodogy, the findings and the originality of our work;\n",
    "* not dwell on previous external research, the abstract is about our work;\n",
    "* the language should be active, not passive (*we did this* not *this was done*)."
   ]
  },
  {
   "cell_type": "markdown",
   "id": "256d48ee-1cd7-4661-8a33-118789a84742",
   "metadata": {},
   "source": [
    "## <a name=\"30.03.2022\"> 30.03.2022: first draft abstract</a>"
   ]
  },
  {
   "cell_type": "markdown",
   "id": "00c00cad-09df-4f01-ab3c-16f7b1b05ac0",
   "metadata": {},
   "source": [
    "Together with the group we made the first draft of the abstract and cleared the main points of the project.\n",
    "\n",
    "-----------"
   ]
  },
  {
   "cell_type": "markdown",
   "id": "8cbc41d5-01fb-43c0-9622-d9a40fbe2e93",
   "metadata": {},
   "source": [
    "First we have to count all the citations that the journals in DOAJ receive: this means that we have to use OpenCitations and other tools to research all of the articles in the journals and count how many times they are used in other articles.\n",
    "\n",
    "Then we have to count how many citations DOAJ journals do: this means that we have to use the DOAJ API or other tools to get all of this data.\n",
    "\n",
    "Then how many of these citations involves articles published in open access journals as both citing and cited entities: this means that we have to check in OpenCitations accessing the DOI of the articles of that citations to find out if it is open or not.\n",
    "\n",
    "Finally we have to check what is the trend (increasing? decreasing?) in time of the availability of such citations: so we have to take the findings of the previous question and put them in a timeline.\n"
   ]
  },
  {
   "cell_type": "markdown",
   "id": "514746b6-1342-48ac-b0e4-bc1f960acaeb",
   "metadata": {},
   "source": [
    "## <a name=\"1.04.2022\"> 1.04.2022: research before DMP</a>"
   ]
  },
  {
   "cell_type": "markdown",
   "id": "50e126be-ceb3-472f-a7ca-01f1f1270ba0",
   "metadata": {},
   "source": [
    "I did some research and studying of the professor's slides.\n",
    "I did a demo DMP on the [Argos website](https://argos.openaire.eu/plans) to have a clear view about what we will do with the others on wednesday. Then I studied the DMP made by students of the previous year course.\n",
    "\n",
    "\n",
    "The DMP consists on a series of general questions about the research and then questions specific to the dataset about the research. In our case a dataset for the results of the research (probably in JSON and XML formats) and a dataset for the software used to produce the results.\n",
    "\n",
    "\n",
    "I then shared this information with my collegues."
   ]
  },
  {
   "cell_type": "markdown",
   "id": "4e59e8e6-b3cc-4c85-8222-9030c1617fdf",
   "metadata": {},
   "source": [
    "## <a name=\"6.04.2022\"> 6.04.2022: first version of DMP, notes for review</a>"
   ]
  },
  {
   "cell_type": "markdown",
   "id": "6b0c7716-d61f-4283-8ec2-400e4e433a04",
   "metadata": {},
   "source": [
    "We created the first version of the DMP together with the team. \n",
    "\n",
    "\n",
    "While we were finalizing the version we found a problem with Horizon Europe template that the professor suggested to use for the description of the datasets: in the repository field there was a multiple choice field that had no options, (neither a \"undefined\" option) so we couldn't compile it in any way and so we couldn't finalize the dataset and so the entire DMP could not be published.\n",
    "So we had to use the Horizon 2020 template and publish the DMP with that.\n",
    "\n",
    "The final *version 0* of the DMP can be found in this [Zenodo page](https://doi.org/10.5281/zenodo.6417368)."
   ]
  },
  {
   "cell_type": "markdown",
   "id": "e091fee9-d1a0-4958-a9a3-e62ae695d647",
   "metadata": {},
   "source": [
    "------------"
   ]
  },
  {
   "cell_type": "markdown",
   "id": "db5974a1-8992-4e20-8f67-ee6bba311ff0",
   "metadata": {},
   "source": [
    "#### Guidelines for the review task"
   ]
  },
  {
   "cell_type": "markdown",
   "id": "9f7b910b-49ad-4b14-abcb-5756657a387c",
   "metadata": {},
   "source": [
    "Each member of a team must write one review and publish it on [Qeios](https://www.qeios.com), in order to get a DOI for it – remember: once published, the review cannot be modified anymore.\n",
    "\n",
    "\n",
    "**Main rule**: Review for others as you would have others review for you\n",
    "\n",
    "**Corollary**: Provide a thorough, fair, and constructive critique of the work"
   ]
  },
  {
   "cell_type": "markdown",
   "id": "c34df52a-327b-446f-89ef-b835b871d95c",
   "metadata": {},
   "source": [
    "--------"
   ]
  },
  {
   "cell_type": "markdown",
   "id": "94c3064f-fd0e-4ae6-bc75-0ceea6a956cf",
   "metadata": {},
   "source": [
    "**For DMP review:**\n",
    "\n",
    "It's necessary to assess the **quality** of the proposed DMP and to comment on whether **appropriate** and **realistic** consideration has been given to data management requirements to maximise **data sharing**.\n",
    "\n",
    "1. Assessment of existing data\n",
    "2. Information on new data\n",
    "3. Quality assurance of data\n",
    "4. Backup and security of data\n",
    "5. Expected difficulties in data sharing\n",
    "6. Copyright/intellectual property right\n",
    "7. Responsibilities\n",
    "8. Preparation of data for sharing and archiving"
   ]
  },
  {
   "cell_type": "markdown",
   "id": "b32e0d88-d0e1-4954-8aa8-6c20c14c89fd",
   "metadata": {},
   "source": [
    "## <a name=\"10.04.2022\"> 10.04.2022: first version of protocol</a>"
   ]
  },
  {
   "cell_type": "markdown",
   "id": "599f9647-0c07-4155-b808-8f88e9c7cb0e",
   "metadata": {},
   "source": [
    "Today we had a meeting with the group to work on the new task of creating the first version of our protocol. Also we decided for each member which review we were going to do. I was assigned to do the DMP review."
   ]
  },
  {
   "cell_type": "markdown",
   "id": "9006be29-cf21-4a03-853f-5cfe1e4cc856",
   "metadata": {},
   "source": [
    "After studying the questions of our research once again, we first created a visual map to help us understand the workflow. \n",
    "\n",
    "For each question we understood that we needed to do some kind of query to OpenCitations. From the questions about the citations going from and to DOAJ we are going to have two lists or dataframes. Then we are going to filter how many of these refer to open access journals. Then, from this filtered lists, we are going to group the citations in years to have an understanding of how the \"openness\" grew in the years."
   ]
  },
  {
   "cell_type": "markdown",
   "id": "d12f686f-3481-428e-80e6-1912c8b02d79",
   "metadata": {},
   "source": [
    "Then we will probably publish this results in CSV and JSON and then probably visualize them in some way with the use of python. In particular we are going to plot the results of the last question and create a graph. Probably with the plotly library."
   ]
  },
  {
   "cell_type": "markdown",
   "id": "8b624792-889f-4c05-ad33-875eeb3426e9",
   "metadata": {},
   "source": [
    "We then transpose all of this in a protocol in protocols.io. The first version can be found [here](https://dx.doi.org/10.17504/protocols.io.n92ldz598v5b/v1)."
   ]
  },
  {
   "cell_type": "markdown",
   "id": "8bed55b0-4fd5-4292-a2bb-c7b1edc4c2d3",
   "metadata": {},
   "source": [
    "## <a name=\"11.04.2022\"> 11.04.2022: starting the DMP review</a>"
   ]
  },
  {
   "cell_type": "markdown",
   "id": "342fdfbd-f9c2-4a29-b71c-63c652478db0",
   "metadata": {},
   "source": [
    "Started working on the review of the La Chouffe DMP. Read everything and did the basic structure of the review on Qetos. For now the main thing a noticed is that they did two datasets definition for DOAJ and Crossref but I think they are suppose to describe the data resulting from their research. DOAJ and Crossref can then be mentioned inside the description of their results."
   ]
  },
  {
   "cell_type": "markdown",
   "id": "ed93aa27-61ed-46ca-a629-cf0c0a541123",
   "metadata": {},
   "source": [
    "## <a name=\"13.04.2022\"> 13.04.2022: DMP review, research</a>"
   ]
  },
  {
   "cell_type": "markdown",
   "id": "5c5a27d6-fee2-44d8-bd77-758ab4d2e10a",
   "metadata": {},
   "source": [
    "Today I finished the review of the La Chouffe DMP following the guidelines that the prof explained in the last lesson.\n",
    "The review can be found in [this Qetos page](https://doi.org/10.32388/KSPWTZ)."
   ]
  },
  {
   "cell_type": "markdown",
   "id": "6e2e07c2-f0eb-4ff4-8562-859673289f49",
   "metadata": {},
   "source": [
    "--------------"
   ]
  },
  {
   "cell_type": "markdown",
   "id": "74d6b2a4-d5ae-4a99-b857-49aa5be31b54",
   "metadata": {},
   "source": [
    "Then I did some research of articles that are related to our research."
   ]
  },
  {
   "cell_type": "markdown",
   "id": "c37e4b71-6d03-4e9d-9349-08827e990bd5",
   "metadata": {},
   "source": [
    "## <a name=\"19.21.04.2022\"> 19.04.2022 - 21.04.2022: new version of protocol</a>"
   ]
  },
  {
   "cell_type": "markdown",
   "id": "a3a2b05d-033b-4681-93c9-85416b0f10b9",
   "metadata": {},
   "source": [
    "We met up with the group to put down a new version 1 of the protocol, after the comments that the professor made in class. We created a more specific protocol that went more into detail about the methodology of our research, in particular the practical part, mainly made of managing APIs and raw data."
   ]
  },
  {
   "cell_type": "markdown",
   "id": "b557ad7e-08b4-45f7-8b9c-ddb892382c03",
   "metadata": {},
   "source": [
    "We made a first draft without specifying a lot about queries because we needed to clear some aspects about the use of either the OpenCitations API or OpenCitation SPARQL tool. After talking to the prof, Alessandro put down some more specific stuff to the protocol and then we publish it as a new version."
   ]
  },
  {
   "cell_type": "markdown",
   "id": "5a3b3e28-901d-4fc3-9436-84b4b007d74e",
   "metadata": {},
   "source": [
    "The new version of the protocol can be found [here](https://dx.doi.org/10.17504/protocols.io.n92ldz598v5b/v2)."
   ]
  },
  {
   "cell_type": "markdown",
   "id": "7b33e19e-ef98-4fe4-a4c1-03516f7d0645",
   "metadata": {},
   "source": [
    "## <a name=\"22.26.04.2022\"> 22.04.2022 - 26.04.2022: rebuttal letter, new version DMP</a>"
   ]
  },
  {
   "cell_type": "markdown",
   "id": "8025e887-be0e-4dce-b354-1683826bfa5b",
   "metadata": {},
   "source": [
    "I read the reviews made by our collegues of the La Chouffe team and gathered the relevant parts that we needed to change in the new version of the DMP in a shared document with the team. This document will become the rebuttal letter to the reviews made to our first version of the DMP. "
   ]
  },
  {
   "cell_type": "markdown",
   "id": "aeed1d3f-32a8-4258-8106-3eddc99c9e85",
   "metadata": {},
   "source": [
    "We then met to actually create the new version of the DMP and respond to every issue that the other team had with our DMP. "
   ]
  },
  {
   "cell_type": "markdown",
   "id": "8b6646dc-2d95-470f-8d2f-31ce466a9d31",
   "metadata": {},
   "source": [
    "After some issue with Openair Argos we published the new version to Zenodo [here](https://doi.org/10.5281/zenodo.6491184). And the rebuttal letter [here](https://doi.org/10.5281/zenodo.6492439)."
   ]
  },
  {
   "cell_type": "markdown",
   "id": "9a853285-16ed-4b5c-b542-81cea45c74b3",
   "metadata": {},
   "source": [
    "## <a name=\"27.04.2022\"> 27.04.2022: notes from the seminar</a>"
   ]
  },
  {
   "cell_type": "raw",
   "id": "ab9dfe21-3a6c-43ef-a133-7b2dd99384ce",
   "metadata": {},
   "source": [
    "why do we need open science -> in the scholarly domain, covid 19, from publishing knowledge to sharing it\n",
    "horizon europe projects are obligatory valueated in the open science methodologies\n",
    "in practice what is open science -> the http protocol, that was originally open to the public by cern and changed the world\n",
    "research should not be just publishing in journals for 100 of dollars\n",
    " journals cycle: registration, certification, awareness, archiving, reward (added recently)\n",
    "processes of scholarly publishing are getting in the way of research\n",
    "authors and reviewers are not paid, they have a reward in prestige, citations (submission peer review phase)\n",
    "in the acceptance and rejection phase often researches are rejected because not mainstream\n",
    "publication phase ...\n",
    "covid teached importance of knowledge not egos or numbers and the importance of data, we need data to be FAIR, we need results quickly to save lives and for the research to make sense\n",
    "robert terry osfair 2021 (min 16.48-46)\n",
    "\n",
    "\n",
    "we need to rethink the order:\n",
    "* publish\n",
    "* open peer review\n",
    "* earn impact\n",
    "\n",
    "\n",
    "not using impact factor (awards before results publishing in important journals even though research is mid)\n",
    "we are paying commercial publishers to lockup content produced by public money, been authored for free and reviewed for free\n",
    "but they offer to open up just for the pandemic (why?)\n",
    "good research stay closed and misinformation stay free\n",
    "with subscription systems we now pay 3800/5000 per article\n",
    "elsevier net the biggest publisher has a profit bigger than apple and google, profit is their only target even for open access articles\n",
    "publishing should serve science not the contrary\n",
    "publishers are investing in data analytics, not calling themselves publisher anymore\n",
    "what do we. get? big time of publication, not reproducible research, # of citations credibility, retraction for fraud\n",
    "when measures become targets, it ceases to be a good measure. evaluation becomes a problem not a value\n",
    "new way of\n",
    "* conducting\n",
    "* publishing\n",
    "* evaluating\n",
    "research\n",
    "sharing as openly and early as possible\n",
    "articles need to be accompained by data, code, protocols. tell it like it is: also failures and negative results an then use them\n",
    "take control and engage people\n",
    "research careers are .."
   ]
  },
  {
   "cell_type": "markdown",
   "id": "f3d028c0-0b30-4098-b629-a9767c7224dc",
   "metadata": {},
   "source": [
    "## <a name=\"03.05.2022\"> 03.05.2022: software init</a>"
   ]
  },
  {
   "cell_type": "markdown",
   "id": "49eaf6d5-c0b7-4d36-8214-964f4553671b",
   "metadata": {},
   "source": [
    "We are meeting today with the group to start the software part of the project. Due to the fact that we have a lot of articles from the DOAJ journals we are first gathering all of the citations from OpenCitations that we need so that the next queries will be much easier to do on this smaller dataset. "
   ]
  },
  {
   "cell_type": "markdown",
   "id": "7fa6660c-40d5-4fa7-b9ab-7d3d9f67312e",
   "metadata": {},
   "source": [
    "Studying [this code](https://github.com/opencitations/coronavirus/blob/master/data.ipynb) I saw that maybe differantiating references and citations is not useful in the results. "
   ]
  },
  {
   "cell_type": "markdown",
   "id": "0b9e8a46-227c-4a6f-9072-9a9abf4edeec",
   "metadata": {},
   "source": [
    "Instead, [here](https://opencitations.github.io/coronavirus/#why) I saw how we could address the problem of articles not having references in OpenCitations, and how it could be similar to how we can do it for DOIs not found."
   ]
  },
  {
   "cell_type": "markdown",
   "id": "812d2b2a-c22e-4afd-a4f0-ac5dc8f165a5",
   "metadata": {},
   "source": [
    "We need to remember to change the title of the DMP in the next version in Zenodo. Because we need to create a separate Zenodo for the research and the Zenodo of the DMP is seperate."
   ]
  },
  {
   "cell_type": "markdown",
   "id": "30648b5a-aca1-475d-bbc3-8be2399e5d03",
   "metadata": {},
   "source": [
    "The next steps are making the material.md, updating the abstract, creating a new version of the protocol and rebuttal letter, finishing the software."
   ]
  },
  {
   "cell_type": "markdown",
   "id": "7c2c5796-f653-472f-9430-58b839e53924",
   "metadata": {
    "tags": []
   },
   "source": [
    "## <a name=\"06.09.05.2022\"> 06.05.2022-09.05.2022: new version protocol</a>"
   ]
  },
  {
   "cell_type": "markdown",
   "id": "ccdeeef4-e327-47b6-9e64-b0660cc678bb",
   "metadata": {},
   "source": [
    "With the group we put down the new steps of the creation of our code to update the protocol. Going from getting all the information about the DOAJ journals and their articles DOIs, then searching these DOIs in the OpenCitations dump, both as \"citing\" and \"cited\", and so creating a json that has the information about the journals together with some counters of the citations coming and going. And two json with the actual citations and refernces that we got from OpenCitations."
   ]
  },
  {
   "cell_type": "markdown",
   "id": "009d54dd-2304-4d98-bfc4-51a8fc442d59",
   "metadata": {},
   "source": [
    "I updated the steps in the protocol and wrote my part in the rebuttal letter, then my collegues did their changes and I uploaded everything. Here is the [new version of the protocol](https://dx.doi.org/10.17504/protocols.io.n92ldz598v5b/v3) and here is the [rebuttal letter](https://doi.org/10.5281/zenodo.6533180)."
   ]
  },
  {
   "cell_type": "markdown",
   "id": "b65655fa-f2b5-487a-9b8a-76cd5aae472b",
   "metadata": {},
   "source": [
    "## <a name=\"10.05.2022\"> 10.05.2022: software: creating the dois.json</a>"
   ]
  },
  {
   "cell_type": "markdown",
   "id": "026d5264-3e13-409a-b8ee-67f2ffa208d6",
   "metadata": {},
   "source": [
    "Today me, Constance and Alessandro tried to put down the function to create the dois.json. At the beggining we were just working with the articles dump from DOAJ but then we noticed that there were some different informations about the journals in the journals dump. Like different issn and eissn, we decided to base our \"truth\" in the journals dump. We also discovered that many of the articles in the articles dump did not have a DOI: we decided to put them all in a separate json. "
   ]
  },
  {
   "cell_type": "markdown",
   "id": "10635db0-07f5-4616-b399-f5fa1a15c495",
   "metadata": {},
   "source": [
    "Umut meanwhile started working on our article and bibliography and also updated the abstract."
   ]
  }
 ],
 "metadata": {
  "kernelspec": {
   "display_name": "Python 3 (ipykernel)",
   "language": "python",
   "name": "python3"
  },
  "language_info": {
   "codemirror_mode": {
    "name": "ipython",
    "version": 3
   },
   "file_extension": ".py",
   "mimetype": "text/x-python",
   "name": "python",
   "nbconvert_exporter": "python",
   "pygments_lexer": "ipython3",
   "version": "3.9.10"
  }
 },
 "nbformat": 4,
 "nbformat_minor": 5
}
