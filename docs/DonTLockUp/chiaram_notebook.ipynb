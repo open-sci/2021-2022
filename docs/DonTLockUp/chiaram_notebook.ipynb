{
 "cells": [
  {
   "cell_type": "markdown",
   "id": "06a2dfe6-9707-4009-99e1-9ff651a09074",
   "metadata": {},
   "source": [
    "# Open Science Laboratory Notebook"
   ]
  },
  {
   "cell_type": "markdown",
   "id": "799f0ab4-1550-453e-91d8-05a1e7fd5cb0",
   "metadata": {},
   "source": [
    "This is Chiara Manca's laboratory notebook for the **Open Science** course of 21/22. It will follow the creation of the project of the Don't Lock Up group."
   ]
  },
  {
   "cell_type": "markdown",
   "id": "71def3f7-3ad9-41e6-841f-22c2f5a69366",
   "metadata": {},
   "source": [
    "### Table of Contents\n",
    "* [28.03.2022: organization with the group, first steps](#28.03.2022)\n",
    "* [30.03.2022: first draft abstract](#30.03.2022)"
   ]
  },
  {
   "cell_type": "markdown",
   "id": "fcdfe20f-b4d0-49ed-bd4c-0a27b26ae0dd",
   "metadata": {},
   "source": [
    "## <a name=\"28.03.2022\"> 28.03.2022: organization with the group, first steps</a>"
   ]
  },
  {
   "cell_type": "markdown",
   "id": "97bef1fa-5c23-42de-bccb-32cd8f9f46f3",
   "metadata": {},
   "source": [
    "Today we agreed with the group to see each other the morning before the lesson to write down the abstract. And that these days each one of us will do some research preparing for that day."
   ]
  },
  {
   "cell_type": "markdown",
   "id": "90ed632a-77c6-4a57-988c-c5f029989593",
   "metadata": {},
   "source": [
    "I started with re-reading our research question and highlighting some key words: **counting cited and citing**, **open access journals**, **DOAJ**, **OpenCitations**, **availability**.\n",
    "\n",
    "Then I read the [Emerald publishing guidelines](https://www.emeraldgrouppublishing.com/how-to/authoring-editing-reviewing/write-article-abstract). Some important information that I gathered that I need to remember:\n",
    "* tipically maximum of 250 words;\n",
    "* make sure that the purpose is clear, followed by the methodogy, the findings and the originality of our work;\n",
    "* not dwell on previous external research, the abstract is about our work;\n",
    "* the language should be active, not passive (*we did this* not *this was done*)."
   ]
  },
  {
   "cell_type": "markdown",
   "id": "256d48ee-1cd7-4661-8a33-118789a84742",
   "metadata": {},
   "source": [
    "## <a name=\"30.03.2022\"> 30.03.2022: first draft abstract</a>"
   ]
  },
  {
   "cell_type": "markdown",
   "id": "8cbc41d5-01fb-43c0-9622-d9a40fbe2e93",
   "metadata": {},
   "source": [
    "Together with the group we made the first draft of the abstract and cleared the main points of the project.\n",
    "\n",
    "\n",
    "First we have to count all the citations that the journals in DOAJ receive: this means that we have to use OpenCitations and other tools to research all of the articles in the journals and count how many times they are used in other articles.\n",
    "\n",
    "Then we have to count how many citations DOAJ journals do: this means that we have to use the DOAJ API or other tools to get all of this data.\n",
    "\n",
    "Then how many of these citations involves articles published in open access journals as both citing and cited entities: this means that we have to check in OpenCitations accessing the DOI of the articles of that citations to find out if it is open or not.\n",
    "\n",
    "Finally we have to check what is the trend (increasing? decreasing?) in time of the availability of such citations: so we have to take the findings of the previous question and put them in a timeline.\n"
   ]
  }
 ],
 "metadata": {
  "kernelspec": {
   "display_name": "Python 3 (ipykernel)",
   "language": "python",
   "name": "python3"
  },
  "language_info": {
   "codemirror_mode": {
    "name": "ipython",
    "version": 3
   },
   "file_extension": ".py",
   "mimetype": "text/x-python",
   "name": "python",
   "nbconvert_exporter": "python",
   "pygments_lexer": "ipython3",
   "version": "3.9.10"
  }
 },
 "nbformat": 4,
 "nbformat_minor": 5
}
