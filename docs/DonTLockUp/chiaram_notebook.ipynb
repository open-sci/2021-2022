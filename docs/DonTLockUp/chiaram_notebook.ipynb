{
 "cells": [
  {
   "cell_type": "markdown",
   "id": "06a2dfe6-9707-4009-99e1-9ff651a09074",
   "metadata": {},
   "source": [
    "# Open Science Laboratory Notebook"
   ]
  },
  {
   "cell_type": "markdown",
   "id": "799f0ab4-1550-453e-91d8-05a1e7fd5cb0",
   "metadata": {},
   "source": [
    "This is Chiara Manca's laboratory notebook for the **Open Science** course of 21/22. It will follow the creation of the project of the Don't Lock Up group."
   ]
  },
  {
   "cell_type": "markdown",
   "id": "fcdfe20f-b4d0-49ed-bd4c-0a27b26ae0dd",
   "metadata": {},
   "source": [
    "## 28-03-2022: organization with the group, first steps"
   ]
  },
  {
   "cell_type": "markdown",
   "id": "97bef1fa-5c23-42de-bccb-32cd8f9f46f3",
   "metadata": {},
   "source": [
    "Today we agreed with the group to see each other the morning before the lesson to write down the abstract. And that these days each one of us will do some research preparing for that day."
   ]
  },
  {
   "cell_type": "markdown",
   "id": "90ed632a-77c6-4a57-988c-c5f029989593",
   "metadata": {},
   "source": [
    "I started with re-reading our research question and highlighting some key words: **counting cited and citing**, **open access journals**, **DOAJ**, **OpenCitations**, **availability**.\n",
    "\n",
    "Then I read the [Emerald publishing guidelines](https://www.emeraldgrouppublishing.com/how-to/authoring-editing-reviewing/write-article-abstract). Some important information that I gathered that I need to remember:\n",
    "* tipically maximum of 250 words;\n",
    "* make sure that the purpose is clear, followed by the methodogy, the findings and the originality of our work;\n",
    "* not dwell on previous external research, the abstract is about our work;\n",
    "* the language should be active, not passive (*we did this* not *this was done*)."
   ]
  }
 ],
 "metadata": {
  "kernelspec": {
   "display_name": "Python 3 (ipykernel)",
   "language": "python",
   "name": "python3"
  },
  "language_info": {
   "codemirror_mode": {
    "name": "ipython",
    "version": 3
   },
   "file_extension": ".py",
   "mimetype": "text/x-python",
   "name": "python",
   "nbconvert_exporter": "python",
   "pygments_lexer": "ipython3",
   "version": "3.9.10"
  }
 },
 "nbformat": 4,
 "nbformat_minor": 5
}
