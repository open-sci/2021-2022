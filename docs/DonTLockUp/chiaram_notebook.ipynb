{
 "cells": [
  {
   "cell_type": "markdown",
   "id": "06a2dfe6-9707-4009-99e1-9ff651a09074",
   "metadata": {},
   "source": [
    "# Chiara Manca Open Science Laboratory Notebook"
   ]
  },
  {
   "cell_type": "markdown",
   "id": "799f0ab4-1550-453e-91d8-05a1e7fd5cb0",
   "metadata": {},
   "source": [
    "This is Chiara Manca's laboratory notebook for the **Open Science** course of 21/22. It will follow the creation of the project of the Don't Lock Up group."
   ]
  },
  {
   "cell_type": "markdown",
   "id": "71def3f7-3ad9-41e6-841f-22c2f5a69366",
   "metadata": {},
   "source": [
    "### Table of Contents\n",
    "* [28.03.2022: organization with the group, first steps](#28.03.2022)\n",
    "* [30.03.2022: first draft abstract](#30.03.2022)\n",
    "* [1.04.2022: research before DMP](#1.04.2022)\n",
    "* [6.04.2022: first version of DMP](#6.04.2022)"
   ]
  },
  {
   "cell_type": "markdown",
   "id": "fcdfe20f-b4d0-49ed-bd4c-0a27b26ae0dd",
   "metadata": {},
   "source": [
    "## <a name=\"28.03.2022\"> 28.03.2022: organization with the group, first steps</a>"
   ]
  },
  {
   "cell_type": "markdown",
   "id": "97bef1fa-5c23-42de-bccb-32cd8f9f46f3",
   "metadata": {},
   "source": [
    "Today we agreed with the group to see each other the morning before the lesson to write down the abstract. And that these days each one of us will do some research preparing for that day."
   ]
  },
  {
   "cell_type": "markdown",
   "id": "90ed632a-77c6-4a57-988c-c5f029989593",
   "metadata": {},
   "source": [
    "I started with re-reading our research question and highlighting some key words: **counting cited and citing**, **open access journals**, **DOAJ**, **OpenCitations**, **availability**.\n",
    "\n",
    "Then I read the [Emerald publishing guidelines](https://www.emeraldgrouppublishing.com/how-to/authoring-editing-reviewing/write-article-abstract). Some important information that I gathered that I need to remember:\n",
    "* tipically maximum of 250 words;\n",
    "* make sure that the purpose is clear, followed by the methodogy, the findings and the originality of our work;\n",
    "* not dwell on previous external research, the abstract is about our work;\n",
    "* the language should be active, not passive (*we did this* not *this was done*)."
   ]
  },
  {
   "cell_type": "markdown",
   "id": "256d48ee-1cd7-4661-8a33-118789a84742",
   "metadata": {},
   "source": [
    "## <a name=\"30.03.2022\"> 30.03.2022: first draft abstract</a>"
   ]
  },
  {
   "cell_type": "markdown",
   "id": "8cbc41d5-01fb-43c0-9622-d9a40fbe2e93",
   "metadata": {},
   "source": [
    "Together with the group we made the first draft of the abstract and cleared the main points of the project.\n",
    "\n",
    "\n",
    "First we have to count all the citations that the journals in DOAJ receive: this means that we have to use OpenCitations and other tools to research all of the articles in the journals and count how many times they are used in other articles.\n",
    "\n",
    "Then we have to count how many citations DOAJ journals do: this means that we have to use the DOAJ API or other tools to get all of this data.\n",
    "\n",
    "Then how many of these citations involves articles published in open access journals as both citing and cited entities: this means that we have to check in OpenCitations accessing the DOI of the articles of that citations to find out if it is open or not.\n",
    "\n",
    "Finally we have to check what is the trend (increasing? decreasing?) in time of the availability of such citations: so we have to take the findings of the previous question and put them in a timeline.\n"
   ]
  },
  {
   "cell_type": "markdown",
   "id": "514746b6-1342-48ac-b0e4-bc1f960acaeb",
   "metadata": {},
   "source": [
    "## <a name=\"1.04.2022\"> 1.04.2022: research before DMP</a>"
   ]
  },
  {
   "cell_type": "markdown",
   "id": "50e126be-ceb3-472f-a7ca-01f1f1270ba0",
   "metadata": {},
   "source": [
    "I did some research and studying of the professor's slides.\n",
    "I did a demo DMP on the [Argos website](https://argos.openaire.eu/plans) to have a clear view about what we will do with the others on wednesday. Then I studied the DMP made by students of the previous year course.\n",
    "\n",
    "\n",
    "The DMP consists on a series of general questions about the research and then questions specific to the dataset about the research. In our case a dataset for the results of the research (probably in JSON and XML formats) and a dataset for the software used to produce the results.\n",
    "\n",
    "\n",
    "I then shared this information with my collegues."
   ]
  },
  {
   "cell_type": "markdown",
   "id": "4e59e8e6-b3cc-4c85-8222-9030c1617fdf",
   "metadata": {},
   "source": [
    "## <a name=\"6.04.2022\"> 6.04.2022: first version of DMP</a>"
   ]
  },
  {
   "cell_type": "markdown",
   "id": "6b0c7716-d61f-4283-8ec2-400e4e433a04",
   "metadata": {},
   "source": [
    "We created the first version of the DMP together with the team. \n",
    "\n",
    "\n",
    "While we were finalizing the version we found a problem with Horizon Europe template that the professor suggested to use for the description of the datasets: in the repository field there was a multiple choice field that had no options, (neither a \"undefined\" option) so we couldn't compile it in any way and so we couldn't finalize the dataset and so the entire DMP could not be published.\n",
    "So we had to use the Horizon 2020 template and publish the DMP with that.\n",
    "\n",
    "The final *version 0* of the DMP can be found in this [Zenodo page](https://doi.org/10.5281/zenodo.6417368)."
   ]
  }
 ],
 "metadata": {
  "kernelspec": {
   "display_name": "Python 3 (ipykernel)",
   "language": "python",
   "name": "python3"
  },
  "language_info": {
   "codemirror_mode": {
    "name": "ipython",
    "version": 3
   },
   "file_extension": ".py",
   "mimetype": "text/x-python",
   "name": "python",
   "nbconvert_exporter": "python",
   "pygments_lexer": "ipython3",
   "version": "3.9.10"
  }
 },
 "nbformat": 4,
 "nbformat_minor": 5
}
