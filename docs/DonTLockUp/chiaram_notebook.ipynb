{
 "cells": [
  {
   "cell_type": "markdown",
   "id": "06a2dfe6-9707-4009-99e1-9ff651a09074",
   "metadata": {},
   "source": [
    "# Chiara Manca Open Science Laboratory Notebook"
   ]
  },
  {
   "cell_type": "markdown",
   "id": "799f0ab4-1550-453e-91d8-05a1e7fd5cb0",
   "metadata": {},
   "source": [
    "This is Chiara Manca's laboratory notebook for the **Open Science** course of 21/22. It will follow the creation of the project of the Don't Lock Up group."
   ]
  },
  {
   "cell_type": "markdown",
   "id": "71def3f7-3ad9-41e6-841f-22c2f5a69366",
   "metadata": {},
   "source": [
    "### Table of Contents\n",
    "* [28.03.2022: organization with the group, first steps](#28.03.2022)\n",
    "* [30.03.2022: first draft abstract](#30.03.2022)\n",
    "* [1.04.2022: research before DMP](#1.04.2022)\n",
    "* [6.04.2022: first version of DMP, notes for review](#6.04.2022)\n",
    "* [10.04.2022: first version of workflow protocol](#10.04.2022)\n",
    "* [11.04.2022: starting the DMP review](#11.04.2022)\n",
    "* [13.04.2022: DMP review, research](#13.04.2022)\n",
    "* [19.04.2022 - 21.04.2022: new version of protocol](#19.21.04.2022)\n",
    "* [22.04.2022 - 26.04.2022: rebuttal letter, new version DMP](#22.26.04.2022)\n",
    "* [27.04.2022: notes from the seminar](#27.04.2022)\n",
    "* [03.05.2022: software init](#03.05.2022)\n",
    "* [10.05.2022: software: creating the dois.json](#10.05.2022)\n",
    "* [13.05.2022 - 16.05.2022: making the grouping in years function](#13.16.05.2022)\n",
    "* [18.05.2022: new DMP, final sw things](#18.05.2022)\n",
    "* [19.05.2022: other final sw things](#19.05.2022)\n",
    "* [22.05.2022: plotting open citations in years and other problems](#22.05.2022)\n",
    "* [23.05.2022 - 24.05.2022: finishing the project](#23.24.05.2022)"
   ]
  },
  {
   "cell_type": "markdown",
   "id": "fcdfe20f-b4d0-49ed-bd4c-0a27b26ae0dd",
   "metadata": {},
   "source": [
    "## <a name=\"28.03.2022\"> 28.03.2022: organization with the group, first steps</a>"
   ]
  },
  {
   "cell_type": "markdown",
   "id": "97bef1fa-5c23-42de-bccb-32cd8f9f46f3",
   "metadata": {},
   "source": [
    "Today we agreed with the group to see each other the morning before the lesson to write down the abstract. And that these days each one of us will do some research preparing for that day."
   ]
  },
  {
   "cell_type": "markdown",
   "id": "66f19e6b-e649-437a-94cc-37a141698476",
   "metadata": {},
   "source": [
    "--------------------"
   ]
  },
  {
   "cell_type": "markdown",
   "id": "90ed632a-77c6-4a57-988c-c5f029989593",
   "metadata": {},
   "source": [
    "I started with re-reading our research question and highlighting some key words: **counting cited and citing**, **open access journals**, **DOAJ**, **OpenCitations**, **availability**.\n",
    "\n",
    "Then I read the [Emerald publishing guidelines](https://www.emeraldgrouppublishing.com/how-to/authoring-editing-reviewing/write-article-abstract). Some important information that I gathered that I need to remember:\n",
    "* tipically maximum of 250 words;\n",
    "* make sure that the purpose is clear, followed by the methodogy, the findings and the originality of our work;\n",
    "* not dwell on previous external research, the abstract is about our work;\n",
    "* the language should be active, not passive (*we did this* not *this was done*)."
   ]
  },
  {
   "cell_type": "markdown",
   "id": "256d48ee-1cd7-4661-8a33-118789a84742",
   "metadata": {},
   "source": [
    "## <a name=\"30.03.2022\"> 30.03.2022: first draft abstract</a>"
   ]
  },
  {
   "cell_type": "markdown",
   "id": "00c00cad-09df-4f01-ab3c-16f7b1b05ac0",
   "metadata": {},
   "source": [
    "Together with the group we made the first draft of the abstract and cleared the main points of the project.\n",
    "\n",
    "-----------"
   ]
  },
  {
   "cell_type": "markdown",
   "id": "8cbc41d5-01fb-43c0-9622-d9a40fbe2e93",
   "metadata": {},
   "source": [
    "First we have to count all the citations that the journals in DOAJ receive: this means that we have to use OpenCitations and other tools to research all of the articles in the journals and count how many times they are used in other articles.\n",
    "\n",
    "Then we have to count how many citations DOAJ journals do: this means that we have to use the DOAJ API or other tools to get all of this data.\n",
    "\n",
    "Then how many of these citations involves articles published in open access journals as both citing and cited entities: this means that we have to check in OpenCitations accessing the DOI of the articles of that citations to find out if it is open or not.\n",
    "\n",
    "Finally we have to check what is the trend (increasing? decreasing?) in time of the availability of such citations: so we have to take the findings of the previous question and put them in a timeline.\n"
   ]
  },
  {
   "cell_type": "markdown",
   "id": "514746b6-1342-48ac-b0e4-bc1f960acaeb",
   "metadata": {},
   "source": [
    "## <a name=\"1.04.2022\"> 1.04.2022: research before DMP</a>"
   ]
  },
  {
   "cell_type": "markdown",
   "id": "50e126be-ceb3-472f-a7ca-01f1f1270ba0",
   "metadata": {},
   "source": [
    "I did some research and studying of the professor's slides.\n",
    "I did a demo DMP on the [Argos website](https://argos.openaire.eu/plans) to have a clear view about what we will do with the others on wednesday. Then I studied the DMP made by students of the previous year course.\n",
    "\n",
    "\n",
    "The DMP consists on a series of general questions about the research and then questions specific to the dataset about the research. In our case a dataset for the results of the research (probably in JSON and XML formats) and a dataset for the software used to produce the results.\n",
    "\n",
    "\n",
    "I then shared this information with my collegues."
   ]
  },
  {
   "cell_type": "markdown",
   "id": "4e59e8e6-b3cc-4c85-8222-9030c1617fdf",
   "metadata": {},
   "source": [
    "## <a name=\"6.04.2022\"> 6.04.2022: first version of DMP, notes for review</a>"
   ]
  },
  {
   "cell_type": "markdown",
   "id": "6b0c7716-d61f-4283-8ec2-400e4e433a04",
   "metadata": {},
   "source": [
    "We created the first version of the DMP together with the team. \n",
    "\n",
    "\n",
    "While we were finalizing the version we found a problem with Horizon Europe template that the professor suggested to use for the description of the datasets: in the repository field there was a multiple choice field that had no options, (neither a \"undefined\" option) so we couldn't compile it in any way and so we couldn't finalize the dataset and so the entire DMP could not be published.\n",
    "So we had to use the Horizon 2020 template and publish the DMP with that.\n",
    "\n",
    "The final *version 0* of the DMP can be found in this [Zenodo page](https://doi.org/10.5281/zenodo.6417368)."
   ]
  },
  {
   "cell_type": "markdown",
   "id": "e091fee9-d1a0-4958-a9a3-e62ae695d647",
   "metadata": {},
   "source": [
    "------------"
   ]
  },
  {
   "cell_type": "markdown",
   "id": "db5974a1-8992-4e20-8f67-ee6bba311ff0",
   "metadata": {},
   "source": [
    "#### Guidelines for the review task"
   ]
  },
  {
   "cell_type": "markdown",
   "id": "9f7b910b-49ad-4b14-abcb-5756657a387c",
   "metadata": {},
   "source": [
    "Each member of a team must write one review and publish it on [Qeios](https://www.qeios.com), in order to get a DOI for it – remember: once published, the review cannot be modified anymore.\n",
    "\n",
    "\n",
    "**Main rule**: Review for others as you would have others review for you\n",
    "\n",
    "**Corollary**: Provide a thorough, fair, and constructive critique of the work"
   ]
  },
  {
   "cell_type": "markdown",
   "id": "c34df52a-327b-446f-89ef-b835b871d95c",
   "metadata": {},
   "source": [
    "--------"
   ]
  },
  {
   "cell_type": "markdown",
   "id": "94c3064f-fd0e-4ae6-bc75-0ceea6a956cf",
   "metadata": {},
   "source": [
    "**For DMP review:**\n",
    "\n",
    "It's necessary to assess the **quality** of the proposed DMP and to comment on whether **appropriate** and **realistic** consideration has been given to data management requirements to maximise **data sharing**.\n",
    "\n",
    "1. Assessment of existing data\n",
    "2. Information on new data\n",
    "3. Quality assurance of data\n",
    "4. Backup and security of data\n",
    "5. Expected difficulties in data sharing\n",
    "6. Copyright/intellectual property right\n",
    "7. Responsibilities\n",
    "8. Preparation of data for sharing and archiving"
   ]
  },
  {
   "cell_type": "markdown",
   "id": "b32e0d88-d0e1-4954-8aa8-6c20c14c89fd",
   "metadata": {},
   "source": [
    "## <a name=\"10.04.2022\"> 10.04.2022: first version of protocol</a>"
   ]
  },
  {
   "cell_type": "markdown",
   "id": "599f9647-0c07-4155-b808-8f88e9c7cb0e",
   "metadata": {},
   "source": [
    "Today we had a meeting with the group to work on the new task of creating the first version of our protocol. Also we decided for each member which review we were going to do. I was assigned to do the DMP review."
   ]
  },
  {
   "cell_type": "markdown",
   "id": "9006be29-cf21-4a03-853f-5cfe1e4cc856",
   "metadata": {},
   "source": [
    "After studying the questions of our research once again, we first created a visual map to help us understand the workflow. \n",
    "\n",
    "For each question we understood that we needed to do some kind of query to OpenCitations. From the questions about the citations going from and to DOAJ we are going to have two lists or dataframes. Then we are going to filter how many of these refer to open access journals. Then, from this filtered lists, we are going to group the citations in years to have an understanding of how the \"openness\" grew in the years."
   ]
  },
  {
   "cell_type": "markdown",
   "id": "d12f686f-3481-428e-80e6-1912c8b02d79",
   "metadata": {},
   "source": [
    "Then we will probably publish this results in CSV and JSON and then probably visualize them in some way with the use of python. In particular we are going to plot the results of the last question and create a graph. Probably with the plotly library."
   ]
  },
  {
   "cell_type": "markdown",
   "id": "8b624792-889f-4c05-ad33-875eeb3426e9",
   "metadata": {},
   "source": [
    "We then transpose all of this in a protocol in protocols.io. The first version can be found [here](https://dx.doi.org/10.17504/protocols.io.n92ldz598v5b/v1)."
   ]
  },
  {
   "cell_type": "markdown",
   "id": "8bed55b0-4fd5-4292-a2bb-c7b1edc4c2d3",
   "metadata": {},
   "source": [
    "## <a name=\"11.04.2022\"> 11.04.2022: starting the DMP review</a>"
   ]
  },
  {
   "cell_type": "markdown",
   "id": "342fdfbd-f9c2-4a29-b71c-63c652478db0",
   "metadata": {},
   "source": [
    "Started working on the review of the La Chouffe DMP. Read everything and did the basic structure of the review on Qetos. For now the main thing a noticed is that they did two datasets definition for DOAJ and Crossref but I think they are suppose to describe the data resulting from their research. DOAJ and Crossref can then be mentioned inside the description of their results."
   ]
  },
  {
   "cell_type": "markdown",
   "id": "ed93aa27-61ed-46ca-a629-cf0c0a541123",
   "metadata": {},
   "source": [
    "## <a name=\"13.04.2022\"> 13.04.2022: DMP review, research</a>"
   ]
  },
  {
   "cell_type": "markdown",
   "id": "5c5a27d6-fee2-44d8-bd77-758ab4d2e10a",
   "metadata": {},
   "source": [
    "Today I finished the review of the La Chouffe DMP following the guidelines that the prof explained in the last lesson.\n",
    "The review can be found in [this Qetos page](https://doi.org/10.32388/KSPWTZ)."
   ]
  },
  {
   "cell_type": "markdown",
   "id": "6e2e07c2-f0eb-4ff4-8562-859673289f49",
   "metadata": {},
   "source": [
    "--------------"
   ]
  },
  {
   "cell_type": "markdown",
   "id": "74d6b2a4-d5ae-4a99-b857-49aa5be31b54",
   "metadata": {},
   "source": [
    "Then I did some research of articles that are related to our research."
   ]
  },
  {
   "cell_type": "markdown",
   "id": "c37e4b71-6d03-4e9d-9349-08827e990bd5",
   "metadata": {},
   "source": [
    "## <a name=\"19.21.04.2022\"> 19.04.2022 - 21.04.2022: new version of protocol</a>"
   ]
  },
  {
   "cell_type": "markdown",
   "id": "a3a2b05d-033b-4681-93c9-85416b0f10b9",
   "metadata": {},
   "source": [
    "We met up with the group to put down a new version 1 of the protocol, after the comments that the professor made in class. We created a more specific protocol that went more into detail about the methodology of our research, in particular the practical part, mainly made of managing APIs and raw data."
   ]
  },
  {
   "cell_type": "markdown",
   "id": "b557ad7e-08b4-45f7-8b9c-ddb892382c03",
   "metadata": {},
   "source": [
    "We made a first draft without specifying a lot about queries because we needed to clear some aspects about the use of either the OpenCitations API or OpenCitation SPARQL tool. After talking to the prof, Alessandro put down some more specific stuff to the protocol and then we publish it as a new version."
   ]
  },
  {
   "cell_type": "markdown",
   "id": "5a3b3e28-901d-4fc3-9436-84b4b007d74e",
   "metadata": {},
   "source": [
    "The new version of the protocol can be found [here](https://dx.doi.org/10.17504/protocols.io.n92ldz598v5b/v2)."
   ]
  },
  {
   "cell_type": "markdown",
   "id": "7b33e19e-ef98-4fe4-a4c1-03516f7d0645",
   "metadata": {},
   "source": [
    "## <a name=\"22.26.04.2022\"> 22.04.2022 - 26.04.2022: rebuttal letter, new version DMP</a>"
   ]
  },
  {
   "cell_type": "markdown",
   "id": "8025e887-be0e-4dce-b354-1683826bfa5b",
   "metadata": {},
   "source": [
    "I read the reviews made by our collegues of the La Chouffe team and gathered the relevant parts that we needed to change in the new version of the DMP in a shared document with the team. This document will become the rebuttal letter to the reviews made to our first version of the DMP. "
   ]
  },
  {
   "cell_type": "markdown",
   "id": "aeed1d3f-32a8-4258-8106-3eddc99c9e85",
   "metadata": {},
   "source": [
    "We then met to actually create the new version of the DMP and respond to every issue that the other team had with our DMP. "
   ]
  },
  {
   "cell_type": "markdown",
   "id": "8b6646dc-2d95-470f-8d2f-31ce466a9d31",
   "metadata": {},
   "source": [
    "After some issue with Openair Argos we published the new version to Zenodo [here](https://doi.org/10.5281/zenodo.6491184). And the rebuttal letter [here](https://doi.org/10.5281/zenodo.6492439)."
   ]
  },
  {
   "cell_type": "markdown",
   "id": "9a853285-16ed-4b5c-b542-81cea45c74b3",
   "metadata": {},
   "source": [
    "## <a name=\"27.04.2022\"> 27.04.2022: notes from the seminar</a>"
   ]
  },
  {
   "cell_type": "raw",
   "id": "ab9dfe21-3a6c-43ef-a133-7b2dd99384ce",
   "metadata": {},
   "source": [
    "why do we need open science -> in the scholarly domain, covid 19, from publishing knowledge to sharing it\n",
    "horizon europe projects are obligatory valueated in the open science methodologies\n",
    "in practice what is open science -> the http protocol, that was originally open to the public by cern and changed the world\n",
    "research should not be just publishing in journals for 100 of dollars\n",
    " journals cycle: registration, certification, awareness, archiving, reward (added recently)\n",
    "processes of scholarly publishing are getting in the way of research\n",
    "authors and reviewers are not paid, they have a reward in prestige, citations (submission peer review phase)\n",
    "in the acceptance and rejection phase often researches are rejected because not mainstream\n",
    "publication phase ...\n",
    "covid teached importance of knowledge not egos or numbers and the importance of data, we need data to be FAIR, we need results quickly to save lives and for the research to make sense\n",
    "robert terry osfair 2021 (min 16.48-46)\n",
    "\n",
    "\n",
    "we need to rethink the order:\n",
    "* publish\n",
    "* open peer review\n",
    "* earn impact\n",
    "\n",
    "\n",
    "not using impact factor (awards before results publishing in important journals even though research is mid)\n",
    "we are paying commercial publishers to lockup content produced by public money, been authored for free and reviewed for free\n",
    "but they offer to open up just for the pandemic (why?)\n",
    "good research stay closed and misinformation stay free\n",
    "with subscription systems we now pay 3800/5000 per article\n",
    "elsevier net the biggest publisher has a profit bigger than apple and google, profit is their only target even for open access articles\n",
    "publishing should serve science not the contrary\n",
    "publishers are investing in data analytics, not calling themselves publisher anymore\n",
    "what do we. get? big time of publication, not reproducible research, # of citations credibility, retraction for fraud\n",
    "when measures become targets, it ceases to be a good measure. evaluation becomes a problem not a value\n",
    "new way of\n",
    "* conducting\n",
    "* publishing\n",
    "* evaluating\n",
    "research\n",
    "sharing as openly and early as possible\n",
    "articles need to be accompained by data, code, protocols. tell it like it is: also failures and negative results an then use them\n",
    "take control and engage people\n",
    "research careers are .."
   ]
  },
  {
   "cell_type": "markdown",
   "id": "f3d028c0-0b30-4098-b629-a9767c7224dc",
   "metadata": {},
   "source": [
    "## <a name=\"03.05.2022\"> 03.05.2022: software init</a>"
   ]
  },
  {
   "cell_type": "markdown",
   "id": "49eaf6d5-c0b7-4d36-8214-964f4553671b",
   "metadata": {},
   "source": [
    "We are meeting today with the group to start the software part of the project. Due to the fact that we have a lot of articles from the DOAJ journals we are first gathering all of the citations from OpenCitations that we need so that the next queries will be much easier to do on this smaller dataset. "
   ]
  },
  {
   "cell_type": "markdown",
   "id": "7fa6660c-40d5-4fa7-b9ab-7d3d9f67312e",
   "metadata": {},
   "source": [
    "Studying [this code](https://github.com/opencitations/coronavirus/blob/master/data.ipynb) I saw that maybe differantiating references and citations is not useful in the results. "
   ]
  },
  {
   "cell_type": "markdown",
   "id": "0b9e8a46-227c-4a6f-9072-9a9abf4edeec",
   "metadata": {},
   "source": [
    "Instead, [here](https://opencitations.github.io/coronavirus/#why) I saw how we could address the problem of articles not having references in OpenCitations, and how it could be similar to how we can do it for DOIs not found."
   ]
  },
  {
   "cell_type": "markdown",
   "id": "812d2b2a-c22e-4afd-a4f0-ac5dc8f165a5",
   "metadata": {},
   "source": [
    "We need to remember to change the title of the DMP in the next version in Zenodo. Because we need to create a separate Zenodo for the research and the Zenodo of the DMP is seperate."
   ]
  },
  {
   "cell_type": "markdown",
   "id": "30648b5a-aca1-475d-bbc3-8be2399e5d03",
   "metadata": {},
   "source": [
    "The next steps are making the material.md, updating the abstract, creating a new version of the protocol and rebuttal letter, finishing the software."
   ]
  },
  {
   "cell_type": "markdown",
   "id": "7c2c5796-f653-472f-9430-58b839e53924",
   "metadata": {
    "tags": []
   },
   "source": [
    "## <a name=\"06.09.05.2022\"> 06.05.2022-09.05.2022: new version protocol</a>"
   ]
  },
  {
   "cell_type": "markdown",
   "id": "ccdeeef4-e327-47b6-9e64-b0660cc678bb",
   "metadata": {},
   "source": [
    "With the group we put down the new steps of the creation of our code to update the protocol. Going from getting all the information about the DOAJ journals and their articles DOIs, then searching these DOIs in the OpenCitations dump, both as \"citing\" and \"cited\", and so creating a json that has the information about the journals together with some counters of the citations coming and going. And two json with the actual citations and refernces that we got from OpenCitations."
   ]
  },
  {
   "cell_type": "markdown",
   "id": "009d54dd-2304-4d98-bfc4-51a8fc442d59",
   "metadata": {},
   "source": [
    "I updated the steps in the protocol and wrote my part in the rebuttal letter, then my collegues did their changes and I uploaded everything. Here is the [new version of the protocol](https://dx.doi.org/10.17504/protocols.io.n92ldz598v5b/v3) and here is the [rebuttal letter](https://doi.org/10.5281/zenodo.6533180)."
   ]
  },
  {
   "cell_type": "markdown",
   "id": "b65655fa-f2b5-487a-9b8a-76cd5aae472b",
   "metadata": {},
   "source": [
    "## <a name=\"10.05.2022\"> 10.05.2022: software: creating the dois.json</a>"
   ]
  },
  {
   "cell_type": "markdown",
   "id": "026d5264-3e13-409a-b8ee-67f2ffa208d6",
   "metadata": {},
   "source": [
    "Today me, Constance and Alessandro tried to put down the function to create the dois.json. At the beggining we were just working with the articles dump from DOAJ but then we noticed that there were some different informations about the journals in the journals dump. Like different issn and eissn, we decided to base our \"truth\" in the journals dump. We also discovered that many of the articles in the articles dump did not have a DOI: we decided to put them all in a separate json. "
   ]
  },
  {
   "cell_type": "markdown",
   "id": "10635db0-07f5-4616-b399-f5fa1a15c495",
   "metadata": {},
   "source": [
    "Umut meanwhile started working on our article and bibliography and also updated the abstract."
   ]
  },
  {
   "cell_type": "markdown",
   "id": "85e1bc5d-4484-4618-b5d3-88ea4a3ba4a4",
   "metadata": {},
   "source": [
    "## <a name=\"13.16.05.2022\"> 13.05.2022 - 16.05.2022: making the grouping in years function</a>"
   ]
  },
  {
   "cell_type": "code",
   "execution_count": null,
   "id": "4ab09bb7-f395-45a0-90ae-016beca274c3",
   "metadata": {},
   "outputs": [],
   "source": [
    "import pandas as pd\n",
    "import json"
   ]
  },
  {
   "cell_type": "code",
   "execution_count": null,
   "id": "75df4d3b-f852-4592-aa5a-456951aaf25a",
   "metadata": {},
   "outputs": [],
   "source": [
    "with open('2019-10-21T22_41_20_1.json') as f:\n",
    "    json_c = json.load(f)\n",
    "\n",
    "df = pd.read_json(json_c)"
   ]
  },
  {
   "cell_type": "code",
   "execution_count": null,
   "id": "828e7b4a-c02b-4e46-a4af-93a9ae65f564",
   "metadata": {},
   "outputs": [],
   "source": [
    "df = pd.read_json(\"2019-10-21T22_41_20_1.json\")"
   ]
  },
  {
   "cell_type": "code",
   "execution_count": null,
   "id": "dbe22459-2eb9-4a1f-822a-a824a0b1e529",
   "metadata": {},
   "outputs": [],
   "source": [
    "df = pd.read_json(\"2019-10-21T22_41_20_4.json\")\n",
    "df_b = pd.read_json(\"cityears.json\")"
   ]
  },
  {
   "cell_type": "code",
   "execution_count": null,
   "id": "6c06b42f-dbcd-4585-9f25-99f33cab431a",
   "metadata": {},
   "outputs": [],
   "source": [
    "df['year'] = pd.DatetimeIndex(df['creation']).year\n",
    "df['citation_count'] = df.groupby('year')['year'].transform('count')\n",
    "df = df[['citation_count', 'year']].reset_index(drop=True).convert_dtypes().drop_duplicates()\n",
    "df = df.dropna().astype({\"citation_count\":\"int\",\"year\":\"int\"}).reset_index(drop=True)"
   ]
  },
  {
   "cell_type": "code",
   "execution_count": null,
   "id": "30befa92-e768-4fec-a86a-a26b714912de",
   "metadata": {},
   "outputs": [],
   "source": [
    "new = df.merge(df_b, how='outer', on='year').fillna(0).convert_dtypes().sort_values(by='year').reset_index(drop=True)\n",
    "new[\"citation_count\"] = new[\"citation_count_x\"] + new[\"citation_count_y\"]\n",
    "new = new[[\"citation_count\", \"year\"]]\n",
    "new"
   ]
  },
  {
   "cell_type": "code",
   "execution_count": null,
   "id": "57d41592-95c7-488f-849c-bd28d5a33c87",
   "metadata": {},
   "outputs": [],
   "source": [
    "df.to_json('cityears.json', orient=\"records\")"
   ]
  },
  {
   "cell_type": "code",
   "execution_count": null,
   "id": "0aef7e29-50da-413a-b915-3851d3d562b1",
   "metadata": {},
   "outputs": [],
   "source": [
    "def group_open_citations_in_years(json, bigjson):\n",
    "\n",
    "    df = pd.read_json(json)\n",
    "    df_b = pd.read_json(bigjson)\n",
    "    \n",
    "    # grouping citations in years\n",
    "    df['year'] = pd.DatetimeIndex(df['creation']).year\n",
    "    df['citation_count'] = df.groupby('year')['year'].transform('count')\n",
    "    df = df[['citation_count', 'year']].reset_index(drop=True).convert_dtypes().drop_duplicates()\n",
    "    df = df.dropna().astype({\"citation_count\":\"int\",\"year\":\"int\"}).sort_values(by='year').reset_index(drop=True)\n",
    "    \n",
    "    #updating the bigger json\n",
    "    new = df.merge(df_b, how='outer', on='year').fillna(0).convert_dtypes().sort_values(by='year').reset_index(drop=True)\n",
    "    new[\"citation_count\"] = new[\"citation_count_x\"] + new[\"citation_count_y\"]\n",
    "    new = new[[\"citation_count\", \"year\"]]\n",
    "    \n",
    "    new.to_json('open_cit_in_years.json', orient=\"records\")"
   ]
  },
  {
   "cell_type": "code",
   "execution_count": null,
   "id": "d753d7f9-b1cb-4c24-920a-498139033d84",
   "metadata": {},
   "outputs": [],
   "source": [
    "group_open_citations_in_years(\"2019-10-21T22_41_20_1.json\", \"cityears.json\")"
   ]
  },
  {
   "cell_type": "code",
   "execution_count": null,
   "id": "ea1a4691-608f-4979-b4e6-f3ef2daff6dc",
   "metadata": {},
   "outputs": [],
   "source": [
    "group_open_citations_in_years(\"./chiaradata/2019-10-21T22_41_20_4.json\", \"cityears.json\")"
   ]
  },
  {
   "cell_type": "code",
   "execution_count": null,
   "id": "5e02bd0c-d182-4a67-8737-4cf89adf47c1",
   "metadata": {},
   "outputs": [],
   "source": [
    "import datetime\n",
    "df_store = pd.read_json(\"open_cit_in_years.json\")\n",
    "df_store = df_store.append({\n",
    "            \"citation_count\": 30,\n",
    "            \"year\": 2000\n",
    "        }, ignore_index=True)"
   ]
  },
  {
   "cell_type": "code",
   "execution_count": null,
   "id": "ef947089-52b0-403d-91a5-c679326e5859",
   "metadata": {},
   "outputs": [],
   "source": [
    "df_store.to_json(\"open_cit_in_years.json\",  orient=\"records\")"
   ]
  },
  {
   "cell_type": "code",
   "execution_count": null,
   "id": "1aefd5e3-2926-4bd5-9699-1ae64255f4aa",
   "metadata": {},
   "outputs": [],
   "source": [
    "import plotly.express as px\n",
    "\n",
    "fig = px.bar(df, x='year', y='citation_count',\n",
    "             hover_data=['citation_count'], color='citation_count',\n",
    "             labels={'timeline citations'}, height=400)\n",
    "fig.show()"
   ]
  },
  {
   "cell_type": "markdown",
   "id": "1540c058-705a-4575-80d5-d348379f75ef",
   "metadata": {},
   "source": [
    "## <a name=\"18.05.2022\"> 18.05.2022: new DMP, final sw things </a>"
   ]
  },
  {
   "cell_type": "markdown",
   "id": "6f9d72ac-a3cb-489c-84b1-4b138508c868",
   "metadata": {},
   "source": [
    "Con constance abbiamo pensato di aggiungere a doi.pickle l'informazione del journal di quel doi in modo che poi quando recuperiamo le citations da open citations le raggruppiamo in cartelle per ogni journal ed è più facile il resto di count.\n",
    "doi pickle avrà elementi coppia key value con key il doi e value il issn+eissn.\n",
    "\n",
    "\n",
    "Abbiamo effettivamente finalizzato questo step e abbiamo aggiunto il filtro delle citazioni che hanno sia citing che cited in DOAJ."
   ]
  },
  {
   "cell_type": "code",
   "execution_count": null,
   "id": "40c22412-07cf-4177-850a-793e401f3bd4",
   "metadata": {},
   "outputs": [],
   "source": [
    "import pandas as pd\n",
    "dict2 = {\n",
    "    '1' : '1111',\n",
    "    '2' : '3333',\n",
    "    '3' : '4444'\n",
    "}\n",
    "\n",
    "d = {'col1': [1, 2, 3], 'col2': [3, 4, 5]}\n",
    "\n",
    "df = pd.DataFrame(data=d)\n",
    "\n"
   ]
  },
  {
   "cell_type": "code",
   "execution_count": null,
   "id": "f5767dc0-7aca-42a1-82c0-bedb8769e9e1",
   "metadata": {},
   "outputs": [],
   "source": [
    "[dict2[x] for x in df[\"col1\"]]"
   ]
  },
  {
   "cell_type": "code",
   "execution_count": null,
   "id": "d34d7acf-f639-468e-b0b5-c6b37a49061f",
   "metadata": {},
   "outputs": [],
   "source": [
    "df['citation_count'] = df.groupby('journal')['journal'].transform('count')"
   ]
  },
  {
   "cell_type": "markdown",
   "id": "af5b78bd-9781-4723-8679-848fb41a3e90",
   "metadata": {},
   "source": [
    "Ho lavorato poi alla nuova versione del nostro DMP, aggiornando tra le varie cose il nuovo titolo della nostra ricerca."
   ]
  },
  {
   "cell_type": "markdown",
   "id": "f7456779-44bd-4e46-899e-0fc25a76bf55",
   "metadata": {},
   "source": [
    "## <a name=\"19.05.2022\"> 19.05.2022: other final sw things</a>"
   ]
  },
  {
   "cell_type": "markdown",
   "id": "8772f075-97fa-434e-a1d1-20df6ef27fd3",
   "metadata": {},
   "source": [
    "Helping Constance and refining the code I wrote for grouping citations"
   ]
  },
  {
   "cell_type": "code",
   "execution_count": null,
   "id": "526fff0e-2a9b-45e4-bf7b-7dc1bfb02a24",
   "metadata": {},
   "outputs": [],
   "source": [
    "import json\n",
    "import zipfile\n",
    "from io import BytesIO\n",
    "import pandas as pd\n",
    "import os\n",
    "\n",
    "for root, dirs, files in os.walk(\"cit\", topdown=False):\n",
    "    for name in files:\n",
    "        if (name != \".DS_Store\"):\n",
    "            print(name)\n",
    "            df = pd.read_json(name)\n",
    "            df.head()\n",
    "#with zipfile.ZipFile(\"cit.zip\", \"r\") as zfile:\n"
   ]
  },
  {
   "cell_type": "code",
   "execution_count": null,
   "id": "c61993f4-b214-4df0-96b9-bc2eb9f9ce59",
   "metadata": {},
   "outputs": [],
   "source": [
    "import os\n",
    "import pandas as pd\n",
    "from glob import glob\n",
    "\n",
    "all_files = glob(os.path.join(\"cit\", \"*.json\"))\n",
    "ind_df = (pd.read_json(f) for f in all_files)\n",
    "df = pd.concat(ind_df, ignore_index=True)\n",
    "#bigdf = pd.read_json(\"open_cit_in_years.json\")"
   ]
  },
  {
   "cell_type": "code",
   "execution_count": null,
   "id": "98085490-f981-45eb-890d-115e5d41e360",
   "metadata": {},
   "outputs": [],
   "source": [
    "df['year'] = pd.DatetimeIndex(df['creation']).year\n",
    "df['citation_count'] = df.groupby('year')['year'].transform('count')\n",
    "df = df[['citation_count', 'year']].reset_index(drop=True).convert_dtypes().drop_duplicates()\n",
    "df = df.dropna().astype({\"citation_count\":\"int\",\"year\":\"int\"}).reset_index(drop=True)"
   ]
  },
  {
   "cell_type": "code",
   "execution_count": null,
   "id": "32de994a-4a03-4b33-9deb-ccb3f5314853",
   "metadata": {},
   "outputs": [],
   "source": [
    "df"
   ]
  },
  {
   "cell_type": "code",
   "execution_count": null,
   "id": "bc21d9b0-5d36-4d84-b725-e17b86da8ab3",
   "metadata": {},
   "outputs": [],
   "source": [
    "df.to_json('open_cit_in_years.json', orient=\"records\")"
   ]
  },
  {
   "cell_type": "code",
   "execution_count": null,
   "id": "32219e1d-a575-43a9-a98e-7bf195dd419e",
   "metadata": {},
   "outputs": [],
   "source": [
    "df= pd.read_json('doi_with_count.json')"
   ]
  },
  {
   "cell_type": "markdown",
   "id": "5f24ecb9-e652-416a-a35d-b8575a0062c9",
   "metadata": {},
   "source": [
    "## <a name=\"22.05.2022\"> 22.05.2022: plotting open citations in years and other problems</a>"
   ]
  },
  {
   "cell_type": "markdown",
   "id": "1b5c4857-65ae-49ed-8622-8ac238fc23bf",
   "metadata": {},
   "source": [
    "Alessandro created a test.py to put in a list all the citations \"open\" with weird years, so i decided to use that code to create a json of that weird citations to then update my code that group the citations in years and avoid to use them in the plot."
   ]
  },
  {
   "cell_type": "code",
   "execution_count": null,
   "id": "4c7723ab-458c-4b93-be02-ccdf7de6632a",
   "metadata": {},
   "outputs": [],
   "source": [
    "# to filter weird citations\n",
    "combined = df1.append(cit_w_err)\n",
    "combined = combined[~combined.index.duplicated(keep=False)]\n",
    "combined = combined.reset_index(drop=True)"
   ]
  },
  {
   "cell_type": "markdown",
   "id": "1ea66235-153e-4269-920e-b5df3c51b744",
   "metadata": {},
   "source": [
    "After adding the previous code to filter the citations, I noticed that it still had problems with citations having \"2109\" as a date. So I decided to jsut add this:\n",
    "<code>df3 = df2[df2['year'] <= 2022].dropna()</code>\n",
    "to my code, but with this, we don't have the file with the citations with errors."
   ]
  },
  {
   "cell_type": "code",
   "execution_count": null,
   "id": "e0a3452e-1ef6-4ac0-a58e-4a8d574107b6",
   "metadata": {},
   "outputs": [],
   "source": [
    "df_e = pd.read_json(\"open_cit_w_errors.json\")\n",
    "df_e['creation'].to_json('date_to_json.json')\n",
    "\n",
    "#trying to see all the dates\n",
    "all_files = glob(os.path.join(\"open_cit\", \"*.json\"))\n",
    "ind_df = (pd.read_json(f) for f in all_files)\n",
    "df = pd.concat(ind_df, ignore_index=True)\n",
    "df['creation'].to_json('date_to_json2.json')"
   ]
  },
  {
   "cell_type": "markdown",
   "id": "55e85f26-3ca9-493e-a9fd-ca5e6e78bbe2",
   "metadata": {},
   "source": [
    "After some thoughts, I decided to actually look at the citations that were saying they were made after 2022. They are actually correct because they said that they were actually publishing the articles in journals of after 2022. Right know I need to understand how to save all the nan and rows with 2109 as a date in another file. "
   ]
  },
  {
   "cell_type": "markdown",
   "id": "a1bbf457-a863-4283-8329-b188558cb3cd",
   "metadata": {},
   "source": [
    "To have the dataframe with all the citations:"
   ]
  },
  {
   "cell_type": "code",
   "execution_count": null,
   "id": "53f32e11-807e-46c0-b1e7-9f431eebcc4d",
   "metadata": {},
   "outputs": [],
   "source": [
    "all_files = glob(os.path.join(\"open_cit\", \"*.json\"))\n",
    "ind_df = (pd.read_json(f) for f in all_files)\n",
    "\n",
    "# converting them in a pandas dataframe\n",
    "df = pd.concat(ind_df, ignore_index=True)\n",
    "\n",
    "print(\"concatenation done\")"
   ]
  },
  {
   "cell_type": "code",
   "execution_count": null,
   "id": "7669a2be-56be-44be-8b51-5ad29ded311c",
   "metadata": {},
   "outputs": [],
   "source": [
    "df"
   ]
  },
  {
   "cell_type": "markdown",
   "id": "13aecb06-563e-4a6a-b05d-b9acb92448aa",
   "metadata": {},
   "source": [
    "Getting all the citations with errors:"
   ]
  },
  {
   "cell_type": "code",
   "execution_count": null,
   "id": "77178c38-e7e5-4746-aa9c-a268f0f5c70a",
   "metadata": {},
   "outputs": [],
   "source": [
    "df2 = df[(df['year'] > 2024) | (df['year'].isnull())]\n",
    "df2.to_json('cit_w_date_err.json', orient=\"records\")"
   ]
  },
  {
   "cell_type": "markdown",
   "id": "c9f6036f-b7de-454f-a241-15696b62e06e",
   "metadata": {},
   "source": [
    "Adding this to my code to get just the right years:"
   ]
  },
  {
   "cell_type": "code",
   "execution_count": null,
   "id": "925061f0-2ae7-4d86-9583-eb65ea11e555",
   "metadata": {},
   "outputs": [],
   "source": [
    "df = df[df['year'] <= 2100].dropna().reset_index(drop=True)"
   ]
  },
  {
   "cell_type": "code",
   "execution_count": 53,
   "id": "78d2ed3c-3a6b-483a-936e-576bec447eea",
   "metadata": {},
   "outputs": [
    {
     "data": {
      "text/plain": [
       "'73'"
      ]
     },
     "execution_count": 53,
     "metadata": {},
     "output_type": "execute_result"
    }
   ],
   "source": [
    "str(len(df))"
   ]
  },
  {
   "cell_type": "markdown",
   "id": "6910e4c4-3afe-41f5-b427-6a649ae67a59",
   "metadata": {},
   "source": [
    "Now, I can actually focus on doing the plot of the citations in years."
   ]
  },
  {
   "cell_type": "code",
   "execution_count": 3,
   "id": "d63d156c-1378-41b0-b349-b5d3c6834916",
   "metadata": {},
   "outputs": [],
   "source": [
    "import pandas as pd\n",
    "df = pd.read_json('open_cit_in_years.json')"
   ]
  },
  {
   "cell_type": "code",
   "execution_count": 53,
   "id": "562a12f1-3135-47d5-b0d4-f61949c1071f",
   "metadata": {},
   "outputs": [
    {
     "data": {
      "application/vnd.plotly.v1+json": {
       "config": {
        "plotlyServerURL": "https://plot.ly"
       },
       "data": [
        {
         "alignmentgroup": "True",
         "hovertemplate": "year=%{x}<br>citation_count=%{marker.color}<extra></extra>",
         "legendgroup": "",
         "marker": {
          "color": [
           4032,
           6405,
           9847,
           17054,
           25930,
           43699,
           76982,
           120619,
           157273,
           225960,
           283926,
           347488,
           540827,
           842554,
           1240765,
           2151218,
           3727041,
           715366,
           868,
           375
          ],
          "coloraxis": "coloraxis",
          "pattern": {
           "shape": ""
          }
         },
         "name": "",
         "offsetgroup": "",
         "orientation": "v",
         "showlegend": false,
         "textposition": "auto",
         "type": "bar",
         "x": [
          2005,
          2006,
          2007,
          2008,
          2009,
          2010,
          2011,
          2012,
          2013,
          2014,
          2015,
          2016,
          2017,
          2018,
          2019,
          2020,
          2021,
          2022,
          2023,
          2024
         ],
         "xaxis": "x",
         "y": [
          4032,
          6405,
          9847,
          17054,
          25930,
          43699,
          76982,
          120619,
          157273,
          225960,
          283926,
          347488,
          540827,
          842554,
          1240765,
          2151218,
          3727041,
          715366,
          868,
          375
         ],
         "yaxis": "y"
        }
       ],
       "layout": {
        "autosize": true,
        "barmode": "relative",
        "coloraxis": {
         "colorbar": {
          "title": {
           "text": "citation_count"
          }
         },
         "colorscale": [
          [
           0,
           "#0d0887"
          ],
          [
           0.1111111111111111,
           "#46039f"
          ],
          [
           0.2222222222222222,
           "#7201a8"
          ],
          [
           0.3333333333333333,
           "#9c179e"
          ],
          [
           0.4444444444444444,
           "#bd3786"
          ],
          [
           0.5555555555555556,
           "#d8576b"
          ],
          [
           0.6666666666666666,
           "#ed7953"
          ],
          [
           0.7777777777777778,
           "#fb9f3a"
          ],
          [
           0.8888888888888888,
           "#fdca26"
          ],
          [
           1,
           "#f0f921"
          ]
         ]
        },
        "legend": {
         "tracegroupgap": 0
        },
        "template": {
         "data": {
          "bar": [
           {
            "error_x": {
             "color": "#2a3f5f"
            },
            "error_y": {
             "color": "#2a3f5f"
            },
            "marker": {
             "line": {
              "color": "#E5ECF6",
              "width": 0.5
             },
             "pattern": {
              "fillmode": "overlay",
              "size": 10,
              "solidity": 0.2
             }
            },
            "type": "bar"
           }
          ],
          "barpolar": [
           {
            "marker": {
             "line": {
              "color": "#E5ECF6",
              "width": 0.5
             },
             "pattern": {
              "fillmode": "overlay",
              "size": 10,
              "solidity": 0.2
             }
            },
            "type": "barpolar"
           }
          ],
          "carpet": [
           {
            "aaxis": {
             "endlinecolor": "#2a3f5f",
             "gridcolor": "white",
             "linecolor": "white",
             "minorgridcolor": "white",
             "startlinecolor": "#2a3f5f"
            },
            "baxis": {
             "endlinecolor": "#2a3f5f",
             "gridcolor": "white",
             "linecolor": "white",
             "minorgridcolor": "white",
             "startlinecolor": "#2a3f5f"
            },
            "type": "carpet"
           }
          ],
          "choropleth": [
           {
            "colorbar": {
             "outlinewidth": 0,
             "ticks": ""
            },
            "type": "choropleth"
           }
          ],
          "contour": [
           {
            "colorbar": {
             "outlinewidth": 0,
             "ticks": ""
            },
            "colorscale": [
             [
              0,
              "#0d0887"
             ],
             [
              0.1111111111111111,
              "#46039f"
             ],
             [
              0.2222222222222222,
              "#7201a8"
             ],
             [
              0.3333333333333333,
              "#9c179e"
             ],
             [
              0.4444444444444444,
              "#bd3786"
             ],
             [
              0.5555555555555556,
              "#d8576b"
             ],
             [
              0.6666666666666666,
              "#ed7953"
             ],
             [
              0.7777777777777778,
              "#fb9f3a"
             ],
             [
              0.8888888888888888,
              "#fdca26"
             ],
             [
              1,
              "#f0f921"
             ]
            ],
            "type": "contour"
           }
          ],
          "contourcarpet": [
           {
            "colorbar": {
             "outlinewidth": 0,
             "ticks": ""
            },
            "type": "contourcarpet"
           }
          ],
          "heatmap": [
           {
            "colorbar": {
             "outlinewidth": 0,
             "ticks": ""
            },
            "colorscale": [
             [
              0,
              "#0d0887"
             ],
             [
              0.1111111111111111,
              "#46039f"
             ],
             [
              0.2222222222222222,
              "#7201a8"
             ],
             [
              0.3333333333333333,
              "#9c179e"
             ],
             [
              0.4444444444444444,
              "#bd3786"
             ],
             [
              0.5555555555555556,
              "#d8576b"
             ],
             [
              0.6666666666666666,
              "#ed7953"
             ],
             [
              0.7777777777777778,
              "#fb9f3a"
             ],
             [
              0.8888888888888888,
              "#fdca26"
             ],
             [
              1,
              "#f0f921"
             ]
            ],
            "type": "heatmap"
           }
          ],
          "heatmapgl": [
           {
            "colorbar": {
             "outlinewidth": 0,
             "ticks": ""
            },
            "colorscale": [
             [
              0,
              "#0d0887"
             ],
             [
              0.1111111111111111,
              "#46039f"
             ],
             [
              0.2222222222222222,
              "#7201a8"
             ],
             [
              0.3333333333333333,
              "#9c179e"
             ],
             [
              0.4444444444444444,
              "#bd3786"
             ],
             [
              0.5555555555555556,
              "#d8576b"
             ],
             [
              0.6666666666666666,
              "#ed7953"
             ],
             [
              0.7777777777777778,
              "#fb9f3a"
             ],
             [
              0.8888888888888888,
              "#fdca26"
             ],
             [
              1,
              "#f0f921"
             ]
            ],
            "type": "heatmapgl"
           }
          ],
          "histogram": [
           {
            "marker": {
             "pattern": {
              "fillmode": "overlay",
              "size": 10,
              "solidity": 0.2
             }
            },
            "type": "histogram"
           }
          ],
          "histogram2d": [
           {
            "colorbar": {
             "outlinewidth": 0,
             "ticks": ""
            },
            "colorscale": [
             [
              0,
              "#0d0887"
             ],
             [
              0.1111111111111111,
              "#46039f"
             ],
             [
              0.2222222222222222,
              "#7201a8"
             ],
             [
              0.3333333333333333,
              "#9c179e"
             ],
             [
              0.4444444444444444,
              "#bd3786"
             ],
             [
              0.5555555555555556,
              "#d8576b"
             ],
             [
              0.6666666666666666,
              "#ed7953"
             ],
             [
              0.7777777777777778,
              "#fb9f3a"
             ],
             [
              0.8888888888888888,
              "#fdca26"
             ],
             [
              1,
              "#f0f921"
             ]
            ],
            "type": "histogram2d"
           }
          ],
          "histogram2dcontour": [
           {
            "colorbar": {
             "outlinewidth": 0,
             "ticks": ""
            },
            "colorscale": [
             [
              0,
              "#0d0887"
             ],
             [
              0.1111111111111111,
              "#46039f"
             ],
             [
              0.2222222222222222,
              "#7201a8"
             ],
             [
              0.3333333333333333,
              "#9c179e"
             ],
             [
              0.4444444444444444,
              "#bd3786"
             ],
             [
              0.5555555555555556,
              "#d8576b"
             ],
             [
              0.6666666666666666,
              "#ed7953"
             ],
             [
              0.7777777777777778,
              "#fb9f3a"
             ],
             [
              0.8888888888888888,
              "#fdca26"
             ],
             [
              1,
              "#f0f921"
             ]
            ],
            "type": "histogram2dcontour"
           }
          ],
          "mesh3d": [
           {
            "colorbar": {
             "outlinewidth": 0,
             "ticks": ""
            },
            "type": "mesh3d"
           }
          ],
          "parcoords": [
           {
            "line": {
             "colorbar": {
              "outlinewidth": 0,
              "ticks": ""
             }
            },
            "type": "parcoords"
           }
          ],
          "pie": [
           {
            "automargin": true,
            "type": "pie"
           }
          ],
          "scatter": [
           {
            "fillpattern": {
             "fillmode": "overlay",
             "size": 10,
             "solidity": 0.2
            },
            "type": "scatter"
           }
          ],
          "scatter3d": [
           {
            "line": {
             "colorbar": {
              "outlinewidth": 0,
              "ticks": ""
             }
            },
            "marker": {
             "colorbar": {
              "outlinewidth": 0,
              "ticks": ""
             }
            },
            "type": "scatter3d"
           }
          ],
          "scattercarpet": [
           {
            "marker": {
             "colorbar": {
              "outlinewidth": 0,
              "ticks": ""
             }
            },
            "type": "scattercarpet"
           }
          ],
          "scattergeo": [
           {
            "marker": {
             "colorbar": {
              "outlinewidth": 0,
              "ticks": ""
             }
            },
            "type": "scattergeo"
           }
          ],
          "scattergl": [
           {
            "marker": {
             "colorbar": {
              "outlinewidth": 0,
              "ticks": ""
             }
            },
            "type": "scattergl"
           }
          ],
          "scattermapbox": [
           {
            "marker": {
             "colorbar": {
              "outlinewidth": 0,
              "ticks": ""
             }
            },
            "type": "scattermapbox"
           }
          ],
          "scatterpolar": [
           {
            "marker": {
             "colorbar": {
              "outlinewidth": 0,
              "ticks": ""
             }
            },
            "type": "scatterpolar"
           }
          ],
          "scatterpolargl": [
           {
            "marker": {
             "colorbar": {
              "outlinewidth": 0,
              "ticks": ""
             }
            },
            "type": "scatterpolargl"
           }
          ],
          "scatterternary": [
           {
            "marker": {
             "colorbar": {
              "outlinewidth": 0,
              "ticks": ""
             }
            },
            "type": "scatterternary"
           }
          ],
          "surface": [
           {
            "colorbar": {
             "outlinewidth": 0,
             "ticks": ""
            },
            "colorscale": [
             [
              0,
              "#0d0887"
             ],
             [
              0.1111111111111111,
              "#46039f"
             ],
             [
              0.2222222222222222,
              "#7201a8"
             ],
             [
              0.3333333333333333,
              "#9c179e"
             ],
             [
              0.4444444444444444,
              "#bd3786"
             ],
             [
              0.5555555555555556,
              "#d8576b"
             ],
             [
              0.6666666666666666,
              "#ed7953"
             ],
             [
              0.7777777777777778,
              "#fb9f3a"
             ],
             [
              0.8888888888888888,
              "#fdca26"
             ],
             [
              1,
              "#f0f921"
             ]
            ],
            "type": "surface"
           }
          ],
          "table": [
           {
            "cells": {
             "fill": {
              "color": "#EBF0F8"
             },
             "line": {
              "color": "white"
             }
            },
            "header": {
             "fill": {
              "color": "#C8D4E3"
             },
             "line": {
              "color": "white"
             }
            },
            "type": "table"
           }
          ]
         },
         "layout": {
          "annotationdefaults": {
           "arrowcolor": "#2a3f5f",
           "arrowhead": 0,
           "arrowwidth": 1
          },
          "autotypenumbers": "strict",
          "coloraxis": {
           "colorbar": {
            "outlinewidth": 0,
            "ticks": ""
           }
          },
          "colorscale": {
           "diverging": [
            [
             0,
             "#8e0152"
            ],
            [
             0.1,
             "#c51b7d"
            ],
            [
             0.2,
             "#de77ae"
            ],
            [
             0.3,
             "#f1b6da"
            ],
            [
             0.4,
             "#fde0ef"
            ],
            [
             0.5,
             "#f7f7f7"
            ],
            [
             0.6,
             "#e6f5d0"
            ],
            [
             0.7,
             "#b8e186"
            ],
            [
             0.8,
             "#7fbc41"
            ],
            [
             0.9,
             "#4d9221"
            ],
            [
             1,
             "#276419"
            ]
           ],
           "sequential": [
            [
             0,
             "#0d0887"
            ],
            [
             0.1111111111111111,
             "#46039f"
            ],
            [
             0.2222222222222222,
             "#7201a8"
            ],
            [
             0.3333333333333333,
             "#9c179e"
            ],
            [
             0.4444444444444444,
             "#bd3786"
            ],
            [
             0.5555555555555556,
             "#d8576b"
            ],
            [
             0.6666666666666666,
             "#ed7953"
            ],
            [
             0.7777777777777778,
             "#fb9f3a"
            ],
            [
             0.8888888888888888,
             "#fdca26"
            ],
            [
             1,
             "#f0f921"
            ]
           ],
           "sequentialminus": [
            [
             0,
             "#0d0887"
            ],
            [
             0.1111111111111111,
             "#46039f"
            ],
            [
             0.2222222222222222,
             "#7201a8"
            ],
            [
             0.3333333333333333,
             "#9c179e"
            ],
            [
             0.4444444444444444,
             "#bd3786"
            ],
            [
             0.5555555555555556,
             "#d8576b"
            ],
            [
             0.6666666666666666,
             "#ed7953"
            ],
            [
             0.7777777777777778,
             "#fb9f3a"
            ],
            [
             0.8888888888888888,
             "#fdca26"
            ],
            [
             1,
             "#f0f921"
            ]
           ]
          },
          "colorway": [
           "#636efa",
           "#EF553B",
           "#00cc96",
           "#ab63fa",
           "#FFA15A",
           "#19d3f3",
           "#FF6692",
           "#B6E880",
           "#FF97FF",
           "#FECB52"
          ],
          "font": {
           "color": "#2a3f5f"
          },
          "geo": {
           "bgcolor": "white",
           "lakecolor": "white",
           "landcolor": "#E5ECF6",
           "showlakes": true,
           "showland": true,
           "subunitcolor": "white"
          },
          "hoverlabel": {
           "align": "left"
          },
          "hovermode": "closest",
          "mapbox": {
           "style": "light"
          },
          "paper_bgcolor": "white",
          "plot_bgcolor": "#E5ECF6",
          "polar": {
           "angularaxis": {
            "gridcolor": "white",
            "linecolor": "white",
            "ticks": ""
           },
           "bgcolor": "#E5ECF6",
           "radialaxis": {
            "gridcolor": "white",
            "linecolor": "white",
            "ticks": ""
           }
          },
          "scene": {
           "xaxis": {
            "backgroundcolor": "#E5ECF6",
            "gridcolor": "white",
            "gridwidth": 2,
            "linecolor": "white",
            "showbackground": true,
            "ticks": "",
            "zerolinecolor": "white"
           },
           "yaxis": {
            "backgroundcolor": "#E5ECF6",
            "gridcolor": "white",
            "gridwidth": 2,
            "linecolor": "white",
            "showbackground": true,
            "ticks": "",
            "zerolinecolor": "white"
           },
           "zaxis": {
            "backgroundcolor": "#E5ECF6",
            "gridcolor": "white",
            "gridwidth": 2,
            "linecolor": "white",
            "showbackground": true,
            "ticks": "",
            "zerolinecolor": "white"
           }
          },
          "shapedefaults": {
           "line": {
            "color": "#2a3f5f"
           }
          },
          "ternary": {
           "aaxis": {
            "gridcolor": "white",
            "linecolor": "white",
            "ticks": ""
           },
           "baxis": {
            "gridcolor": "white",
            "linecolor": "white",
            "ticks": ""
           },
           "bgcolor": "#E5ECF6",
           "caxis": {
            "gridcolor": "white",
            "linecolor": "white",
            "ticks": ""
           }
          },
          "title": {
           "x": 0.05
          },
          "xaxis": {
           "automargin": true,
           "gridcolor": "white",
           "linecolor": "white",
           "ticks": "",
           "title": {
            "standoff": 15
           },
           "zerolinecolor": "white",
           "zerolinewidth": 2
          },
          "yaxis": {
           "automargin": true,
           "gridcolor": "white",
           "linecolor": "white",
           "ticks": "",
           "title": {
            "standoff": 15
           },
           "zerolinecolor": "white",
           "zerolinewidth": 2
          }
         }
        },
        "title": {
         "text": "Timeline of citations coming and goind to open journals in the last 20 years"
        },
        "xaxis": {
         "anchor": "y",
         "autorange": true,
         "domain": [
          0,
          1
         ],
         "range": [
          2004.5,
          2024.5
         ],
         "title": {
          "text": "year"
         },
         "type": "linear"
        },
        "yaxis": {
         "anchor": "x",
         "autorange": true,
         "domain": [
          0,
          1
         ],
         "range": [
          0,
          3923201.052631579
         ],
         "title": {
          "text": "citation_count"
         },
         "type": "linear"
        }
       }
      },
      "image/png": "[encoded data removed]",
      "text/html": [
       "<div>                            <div id=\"110418d8-3cb2-49f2-8b07-b4e91a6e3c8d\" class=\"plotly-graph-div\" style=\"height:600px; width:100%;\"></div>            <script type=\"text/javascript\">                require([\"plotly\"], function(Plotly) {                    window.PLOTLYENV=window.PLOTLYENV || {};                                    if (document.getElementById(\"110418d8-3cb2-49f2-8b07-b4e91a6e3c8d\")) {                    Plotly.newPlot(                        \"110418d8-3cb2-49f2-8b07-b4e91a6e3c8d\",                        [{\"alignmentgroup\":\"True\",\"hovertemplate\":\"year=%{x}<br>citation_count=%{marker.color}<extra></extra>\",\"legendgroup\":\"\",\"marker\":{\"color\":[4032,6405,9847,17054,25930,43699,76982,120619,157273,225960,283926,347488,540827,842554,1240765,2151218,3727041,715366,868,375],\"coloraxis\":\"coloraxis\",\"pattern\":{\"shape\":\"\"}},\"name\":\"\",\"offsetgroup\":\"\",\"orientation\":\"v\",\"showlegend\":false,\"textposition\":\"auto\",\"x\":[2005,2006,2007,2008,2009,2010,2011,2012,2013,2014,2015,2016,2017,2018,2019,2020,2021,2022,2023,2024],\"xaxis\":\"x\",\"y\":[4032,6405,9847,17054,25930,43699,76982,120619,157273,225960,283926,347488,540827,842554,1240765,2151218,3727041,715366,868,375],\"yaxis\":\"y\",\"type\":\"bar\"}],                        {\"template\":{\"data\":{\"histogram2dcontour\":[{\"type\":\"histogram2dcontour\",\"colorbar\":{\"outlinewidth\":0,\"ticks\":\"\"},\"colorscale\":[[0.0,\"#0d0887\"],[0.1111111111111111,\"#46039f\"],[0.2222222222222222,\"#7201a8\"],[0.3333333333333333,\"#9c179e\"],[0.4444444444444444,\"#bd3786\"],[0.5555555555555556,\"#d8576b\"],[0.6666666666666666,\"#ed7953\"],[0.7777777777777778,\"#fb9f3a\"],[0.8888888888888888,\"#fdca26\"],[1.0,\"#f0f921\"]]}],\"choropleth\":[{\"type\":\"choropleth\",\"colorbar\":{\"outlinewidth\":0,\"ticks\":\"\"}}],\"histogram2d\":[{\"type\":\"histogram2d\",\"colorbar\":{\"outlinewidth\":0,\"ticks\":\"\"},\"colorscale\":[[0.0,\"#0d0887\"],[0.1111111111111111,\"#46039f\"],[0.2222222222222222,\"#7201a8\"],[0.3333333333333333,\"#9c179e\"],[0.4444444444444444,\"#bd3786\"],[0.5555555555555556,\"#d8576b\"],[0.6666666666666666,\"#ed7953\"],[0.7777777777777778,\"#fb9f3a\"],[0.8888888888888888,\"#fdca26\"],[1.0,\"#f0f921\"]]}],\"heatmap\":[{\"type\":\"heatmap\",\"colorbar\":{\"outlinewidth\":0,\"ticks\":\"\"},\"colorscale\":[[0.0,\"#0d0887\"],[0.1111111111111111,\"#46039f\"],[0.2222222222222222,\"#7201a8\"],[0.3333333333333333,\"#9c179e\"],[0.4444444444444444,\"#bd3786\"],[0.5555555555555556,\"#d8576b\"],[0.6666666666666666,\"#ed7953\"],[0.7777777777777778,\"#fb9f3a\"],[0.8888888888888888,\"#fdca26\"],[1.0,\"#f0f921\"]]}],\"heatmapgl\":[{\"type\":\"heatmapgl\",\"colorbar\":{\"outlinewidth\":0,\"ticks\":\"\"},\"colorscale\":[[0.0,\"#0d0887\"],[0.1111111111111111,\"#46039f\"],[0.2222222222222222,\"#7201a8\"],[0.3333333333333333,\"#9c179e\"],[0.4444444444444444,\"#bd3786\"],[0.5555555555555556,\"#d8576b\"],[0.6666666666666666,\"#ed7953\"],[0.7777777777777778,\"#fb9f3a\"],[0.8888888888888888,\"#fdca26\"],[1.0,\"#f0f921\"]]}],\"contourcarpet\":[{\"type\":\"contourcarpet\",\"colorbar\":{\"outlinewidth\":0,\"ticks\":\"\"}}],\"contour\":[{\"type\":\"contour\",\"colorbar\":{\"outlinewidth\":0,\"ticks\":\"\"},\"colorscale\":[[0.0,\"#0d0887\"],[0.1111111111111111,\"#46039f\"],[0.2222222222222222,\"#7201a8\"],[0.3333333333333333,\"#9c179e\"],[0.4444444444444444,\"#bd3786\"],[0.5555555555555556,\"#d8576b\"],[0.6666666666666666,\"#ed7953\"],[0.7777777777777778,\"#fb9f3a\"],[0.8888888888888888,\"#fdca26\"],[1.0,\"#f0f921\"]]}],\"surface\":[{\"type\":\"surface\",\"colorbar\":{\"outlinewidth\":0,\"ticks\":\"\"},\"colorscale\":[[0.0,\"#0d0887\"],[0.1111111111111111,\"#46039f\"],[0.2222222222222222,\"#7201a8\"],[0.3333333333333333,\"#9c179e\"],[0.4444444444444444,\"#bd3786\"],[0.5555555555555556,\"#d8576b\"],[0.6666666666666666,\"#ed7953\"],[0.7777777777777778,\"#fb9f3a\"],[0.8888888888888888,\"#fdca26\"],[1.0,\"#f0f921\"]]}],\"mesh3d\":[{\"type\":\"mesh3d\",\"colorbar\":{\"outlinewidth\":0,\"ticks\":\"\"}}],\"scatter\":[{\"fillpattern\":{\"fillmode\":\"overlay\",\"size\":10,\"solidity\":0.2},\"type\":\"scatter\"}],\"parcoords\":[{\"type\":\"parcoords\",\"line\":{\"colorbar\":{\"outlinewidth\":0,\"ticks\":\"\"}}}],\"scatterpolargl\":[{\"type\":\"scatterpolargl\",\"marker\":{\"colorbar\":{\"outlinewidth\":0,\"ticks\":\"\"}}}],\"bar\":[{\"error_x\":{\"color\":\"#2a3f5f\"},\"error_y\":{\"color\":\"#2a3f5f\"},\"marker\":{\"line\":{\"color\":\"#E5ECF6\",\"width\":0.5},\"pattern\":{\"fillmode\":\"overlay\",\"size\":10,\"solidity\":0.2}},\"type\":\"bar\"}],\"scattergeo\":[{\"type\":\"scattergeo\",\"marker\":{\"colorbar\":{\"outlinewidth\":0,\"ticks\":\"\"}}}],\"scatterpolar\":[{\"type\":\"scatterpolar\",\"marker\":{\"colorbar\":{\"outlinewidth\":0,\"ticks\":\"\"}}}],\"histogram\":[{\"marker\":{\"pattern\":{\"fillmode\":\"overlay\",\"size\":10,\"solidity\":0.2}},\"type\":\"histogram\"}],\"scattergl\":[{\"type\":\"scattergl\",\"marker\":{\"colorbar\":{\"outlinewidth\":0,\"ticks\":\"\"}}}],\"scatter3d\":[{\"type\":\"scatter3d\",\"line\":{\"colorbar\":{\"outlinewidth\":0,\"ticks\":\"\"}},\"marker\":{\"colorbar\":{\"outlinewidth\":0,\"ticks\":\"\"}}}],\"scattermapbox\":[{\"type\":\"scattermapbox\",\"marker\":{\"colorbar\":{\"outlinewidth\":0,\"ticks\":\"\"}}}],\"scatterternary\":[{\"type\":\"scatterternary\",\"marker\":{\"colorbar\":{\"outlinewidth\":0,\"ticks\":\"\"}}}],\"scattercarpet\":[{\"type\":\"scattercarpet\",\"marker\":{\"colorbar\":{\"outlinewidth\":0,\"ticks\":\"\"}}}],\"carpet\":[{\"aaxis\":{\"endlinecolor\":\"#2a3f5f\",\"gridcolor\":\"white\",\"linecolor\":\"white\",\"minorgridcolor\":\"white\",\"startlinecolor\":\"#2a3f5f\"},\"baxis\":{\"endlinecolor\":\"#2a3f5f\",\"gridcolor\":\"white\",\"linecolor\":\"white\",\"minorgridcolor\":\"white\",\"startlinecolor\":\"#2a3f5f\"},\"type\":\"carpet\"}],\"table\":[{\"cells\":{\"fill\":{\"color\":\"#EBF0F8\"},\"line\":{\"color\":\"white\"}},\"header\":{\"fill\":{\"color\":\"#C8D4E3\"},\"line\":{\"color\":\"white\"}},\"type\":\"table\"}],\"barpolar\":[{\"marker\":{\"line\":{\"color\":\"#E5ECF6\",\"width\":0.5},\"pattern\":{\"fillmode\":\"overlay\",\"size\":10,\"solidity\":0.2}},\"type\":\"barpolar\"}],\"pie\":[{\"automargin\":true,\"type\":\"pie\"}]},\"layout\":{\"autotypenumbers\":\"strict\",\"colorway\":[\"#636efa\",\"#EF553B\",\"#00cc96\",\"#ab63fa\",\"#FFA15A\",\"#19d3f3\",\"#FF6692\",\"#B6E880\",\"#FF97FF\",\"#FECB52\"],\"font\":{\"color\":\"#2a3f5f\"},\"hovermode\":\"closest\",\"hoverlabel\":{\"align\":\"left\"},\"paper_bgcolor\":\"white\",\"plot_bgcolor\":\"#E5ECF6\",\"polar\":{\"bgcolor\":\"#E5ECF6\",\"angularaxis\":{\"gridcolor\":\"white\",\"linecolor\":\"white\",\"ticks\":\"\"},\"radialaxis\":{\"gridcolor\":\"white\",\"linecolor\":\"white\",\"ticks\":\"\"}},\"ternary\":{\"bgcolor\":\"#E5ECF6\",\"aaxis\":{\"gridcolor\":\"white\",\"linecolor\":\"white\",\"ticks\":\"\"},\"baxis\":{\"gridcolor\":\"white\",\"linecolor\":\"white\",\"ticks\":\"\"},\"caxis\":{\"gridcolor\":\"white\",\"linecolor\":\"white\",\"ticks\":\"\"}},\"coloraxis\":{\"colorbar\":{\"outlinewidth\":0,\"ticks\":\"\"}},\"colorscale\":{\"sequential\":[[0.0,\"#0d0887\"],[0.1111111111111111,\"#46039f\"],[0.2222222222222222,\"#7201a8\"],[0.3333333333333333,\"#9c179e\"],[0.4444444444444444,\"#bd3786\"],[0.5555555555555556,\"#d8576b\"],[0.6666666666666666,\"#ed7953\"],[0.7777777777777778,\"#fb9f3a\"],[0.8888888888888888,\"#fdca26\"],[1.0,\"#f0f921\"]],\"sequentialminus\":[[0.0,\"#0d0887\"],[0.1111111111111111,\"#46039f\"],[0.2222222222222222,\"#7201a8\"],[0.3333333333333333,\"#9c179e\"],[0.4444444444444444,\"#bd3786\"],[0.5555555555555556,\"#d8576b\"],[0.6666666666666666,\"#ed7953\"],[0.7777777777777778,\"#fb9f3a\"],[0.8888888888888888,\"#fdca26\"],[1.0,\"#f0f921\"]],\"diverging\":[[0,\"#8e0152\"],[0.1,\"#c51b7d\"],[0.2,\"#de77ae\"],[0.3,\"#f1b6da\"],[0.4,\"#fde0ef\"],[0.5,\"#f7f7f7\"],[0.6,\"#e6f5d0\"],[0.7,\"#b8e186\"],[0.8,\"#7fbc41\"],[0.9,\"#4d9221\"],[1,\"#276419\"]]},\"xaxis\":{\"gridcolor\":\"white\",\"linecolor\":\"white\",\"ticks\":\"\",\"title\":{\"standoff\":15},\"zerolinecolor\":\"white\",\"automargin\":true,\"zerolinewidth\":2},\"yaxis\":{\"gridcolor\":\"white\",\"linecolor\":\"white\",\"ticks\":\"\",\"title\":{\"standoff\":15},\"zerolinecolor\":\"white\",\"automargin\":true,\"zerolinewidth\":2},\"scene\":{\"xaxis\":{\"backgroundcolor\":\"#E5ECF6\",\"gridcolor\":\"white\",\"linecolor\":\"white\",\"showbackground\":true,\"ticks\":\"\",\"zerolinecolor\":\"white\",\"gridwidth\":2},\"yaxis\":{\"backgroundcolor\":\"#E5ECF6\",\"gridcolor\":\"white\",\"linecolor\":\"white\",\"showbackground\":true,\"ticks\":\"\",\"zerolinecolor\":\"white\",\"gridwidth\":2},\"zaxis\":{\"backgroundcolor\":\"#E5ECF6\",\"gridcolor\":\"white\",\"linecolor\":\"white\",\"showbackground\":true,\"ticks\":\"\",\"zerolinecolor\":\"white\",\"gridwidth\":2}},\"shapedefaults\":{\"line\":{\"color\":\"#2a3f5f\"}},\"annotationdefaults\":{\"arrowcolor\":\"#2a3f5f\",\"arrowhead\":0,\"arrowwidth\":1},\"geo\":{\"bgcolor\":\"white\",\"landcolor\":\"#E5ECF6\",\"subunitcolor\":\"white\",\"showland\":true,\"showlakes\":true,\"lakecolor\":\"white\"},\"title\":{\"x\":0.05},\"mapbox\":{\"style\":\"light\"}}},\"xaxis\":{\"anchor\":\"y\",\"domain\":[0.0,1.0],\"title\":{\"text\":\"year\"}},\"yaxis\":{\"anchor\":\"x\",\"domain\":[0.0,1.0],\"title\":{\"text\":\"citation_count\"}},\"coloraxis\":{\"colorbar\":{\"title\":{\"text\":\"citation_count\"}},\"colorscale\":[[0.0,\"#0d0887\"],[0.1111111111111111,\"#46039f\"],[0.2222222222222222,\"#7201a8\"],[0.3333333333333333,\"#9c179e\"],[0.4444444444444444,\"#bd3786\"],[0.5555555555555556,\"#d8576b\"],[0.6666666666666666,\"#ed7953\"],[0.7777777777777778,\"#fb9f3a\"],[0.8888888888888888,\"#fdca26\"],[1.0,\"#f0f921\"]]},\"legend\":{\"tracegroupgap\":0},\"title\":{\"text\":\"Timeline of citations coming and goind to open journals in the last 20 years\"},\"barmode\":\"relative\",\"height\":600},                        {\"responsive\": true}                    ).then(function(){\n",
       "                            \n",
       "var gd = document.getElementById('110418d8-3cb2-49f2-8b07-b4e91a6e3c8d');\n",
       "var x = new MutationObserver(function (mutations, observer) {{\n",
       "        var display = window.getComputedStyle(gd).display;\n",
       "        if (!display || display === 'none') {{\n",
       "            console.log([gd, 'removed!']);\n",
       "            Plotly.purge(gd);\n",
       "            observer.disconnect();\n",
       "        }}\n",
       "}});\n",
       "\n",
       "// Listen for the removal of the full notebook cells\n",
       "var notebookContainer = gd.closest('#notebook-container');\n",
       "if (notebookContainer) {{\n",
       "    x.observe(notebookContainer, {childList: true});\n",
       "}}\n",
       "\n",
       "// Listen for the clearing of the current output cell\n",
       "var outputEl = gd.closest('.output');\n",
       "if (outputEl) {{\n",
       "    x.observe(outputEl, {childList: true});\n",
       "}}\n",
       "\n",
       "                        })                };                });            </script>        </div>"
      ]
     },
     "metadata": {},
     "output_type": "display_data"
    }
   ],
   "source": [
    "import plotly.express as px\n",
    "\n",
    "# citation going and coming from open journals in the last 20 years\n",
    "fig = px.bar(df.tail(20), x='year', y='citation_count', \n",
    "             hover_data=['citation_count'],\n",
    "             title='Timeline of citations coming and goind to open journals in the last 20 years', \n",
    "             color='citation_count', \n",
    "             height=600)\n",
    "\n",
    "fig.show()"
   ]
  },
  {
   "cell_type": "code",
   "execution_count": 56,
   "id": "9d2025fd-a6a3-4d40-9503-c3b212ccf48a",
   "metadata": {},
   "outputs": [
    {
     "data": {
      "application/vnd.plotly.v1+json": {
       "config": {
        "plotlyServerURL": "https://plot.ly"
       },
       "data": [
        {
         "alignmentgroup": "True",
         "hovertemplate": "year=%{x}<br>citation_count=%{marker.color}<extra></extra>",
         "legendgroup": "",
         "marker": {
          "color": [
           4,
           7,
           5,
           9,
           14,
           7,
           18,
           13,
           31,
           24,
           39,
           26,
           3,
           27,
           25,
           103,
           1796,
           17,
           44,
           28,
           29,
           38,
           62,
           31,
           50,
           55,
           37,
           77,
           34,
           55,
           53,
           49,
           77,
           74,
           102,
           98,
           64,
           55,
           45,
           97,
           48,
           84,
           221,
           216,
           262,
           525,
           513,
           622,
           1053,
           1328,
           1785,
           4032,
           6405,
           9847,
           17054,
           25930,
           43699,
           76982,
           120619,
           157273,
           225960,
           283926,
           347488,
           540827,
           842554,
           1240765,
           2151218,
           3727041,
           715366,
           868,
           375
          ],
          "coloraxis": "coloraxis",
          "pattern": {
           "shape": ""
          }
         },
         "name": "",
         "offsetgroup": "",
         "orientation": "v",
         "showlegend": false,
         "textposition": "auto",
         "type": "bar",
         "x": [
          1954,
          1955,
          1956,
          1957,
          1958,
          1959,
          1960,
          1961,
          1962,
          1963,
          1964,
          1965,
          1966,
          1967,
          1968,
          1969,
          1970,
          1971,
          1972,
          1973,
          1974,
          1975,
          1976,
          1977,
          1978,
          1979,
          1980,
          1981,
          1982,
          1983,
          1984,
          1985,
          1986,
          1987,
          1988,
          1989,
          1990,
          1991,
          1992,
          1993,
          1994,
          1995,
          1996,
          1997,
          1998,
          1999,
          2000,
          2001,
          2002,
          2003,
          2004,
          2005,
          2006,
          2007,
          2008,
          2009,
          2010,
          2011,
          2012,
          2013,
          2014,
          2015,
          2016,
          2017,
          2018,
          2019,
          2020,
          2021,
          2022,
          2023,
          2024
         ],
         "xaxis": "x",
         "y": [
          4,
          7,
          5,
          9,
          14,
          7,
          18,
          13,
          31,
          24,
          39,
          26,
          3,
          27,
          25,
          103,
          1796,
          17,
          44,
          28,
          29,
          38,
          62,
          31,
          50,
          55,
          37,
          77,
          34,
          55,
          53,
          49,
          77,
          74,
          102,
          98,
          64,
          55,
          45,
          97,
          48,
          84,
          221,
          216,
          262,
          525,
          513,
          622,
          1053,
          1328,
          1785,
          4032,
          6405,
          9847,
          17054,
          25930,
          43699,
          76982,
          120619,
          157273,
          225960,
          283926,
          347488,
          540827,
          842554,
          1240765,
          2151218,
          3727041,
          715366,
          868,
          375
         ],
         "yaxis": "y"
        }
       ],
       "layout": {
        "autosize": true,
        "barmode": "relative",
        "coloraxis": {
         "colorbar": {
          "title": {
           "text": "citation_count"
          }
         },
         "colorscale": [
          [
           0,
           "#0d0887"
          ],
          [
           0.1111111111111111,
           "#46039f"
          ],
          [
           0.2222222222222222,
           "#7201a8"
          ],
          [
           0.3333333333333333,
           "#9c179e"
          ],
          [
           0.4444444444444444,
           "#bd3786"
          ],
          [
           0.5555555555555556,
           "#d8576b"
          ],
          [
           0.6666666666666666,
           "#ed7953"
          ],
          [
           0.7777777777777778,
           "#fb9f3a"
          ],
          [
           0.8888888888888888,
           "#fdca26"
          ],
          [
           1,
           "#f0f921"
          ]
         ]
        },
        "legend": {
         "tracegroupgap": 0
        },
        "template": {
         "data": {
          "bar": [
           {
            "error_x": {
             "color": "#2a3f5f"
            },
            "error_y": {
             "color": "#2a3f5f"
            },
            "marker": {
             "line": {
              "color": "#E5ECF6",
              "width": 0.5
             },
             "pattern": {
              "fillmode": "overlay",
              "size": 10,
              "solidity": 0.2
             }
            },
            "type": "bar"
           }
          ],
          "barpolar": [
           {
            "marker": {
             "line": {
              "color": "#E5ECF6",
              "width": 0.5
             },
             "pattern": {
              "fillmode": "overlay",
              "size": 10,
              "solidity": 0.2
             }
            },
            "type": "barpolar"
           }
          ],
          "carpet": [
           {
            "aaxis": {
             "endlinecolor": "#2a3f5f",
             "gridcolor": "white",
             "linecolor": "white",
             "minorgridcolor": "white",
             "startlinecolor": "#2a3f5f"
            },
            "baxis": {
             "endlinecolor": "#2a3f5f",
             "gridcolor": "white",
             "linecolor": "white",
             "minorgridcolor": "white",
             "startlinecolor": "#2a3f5f"
            },
            "type": "carpet"
           }
          ],
          "choropleth": [
           {
            "colorbar": {
             "outlinewidth": 0,
             "ticks": ""
            },
            "type": "choropleth"
           }
          ],
          "contour": [
           {
            "colorbar": {
             "outlinewidth": 0,
             "ticks": ""
            },
            "colorscale": [
             [
              0,
              "#0d0887"
             ],
             [
              0.1111111111111111,
              "#46039f"
             ],
             [
              0.2222222222222222,
              "#7201a8"
             ],
             [
              0.3333333333333333,
              "#9c179e"
             ],
             [
              0.4444444444444444,
              "#bd3786"
             ],
             [
              0.5555555555555556,
              "#d8576b"
             ],
             [
              0.6666666666666666,
              "#ed7953"
             ],
             [
              0.7777777777777778,
              "#fb9f3a"
             ],
             [
              0.8888888888888888,
              "#fdca26"
             ],
             [
              1,
              "#f0f921"
             ]
            ],
            "type": "contour"
           }
          ],
          "contourcarpet": [
           {
            "colorbar": {
             "outlinewidth": 0,
             "ticks": ""
            },
            "type": "contourcarpet"
           }
          ],
          "heatmap": [
           {
            "colorbar": {
             "outlinewidth": 0,
             "ticks": ""
            },
            "colorscale": [
             [
              0,
              "#0d0887"
             ],
             [
              0.1111111111111111,
              "#46039f"
             ],
             [
              0.2222222222222222,
              "#7201a8"
             ],
             [
              0.3333333333333333,
              "#9c179e"
             ],
             [
              0.4444444444444444,
              "#bd3786"
             ],
             [
              0.5555555555555556,
              "#d8576b"
             ],
             [
              0.6666666666666666,
              "#ed7953"
             ],
             [
              0.7777777777777778,
              "#fb9f3a"
             ],
             [
              0.8888888888888888,
              "#fdca26"
             ],
             [
              1,
              "#f0f921"
             ]
            ],
            "type": "heatmap"
           }
          ],
          "heatmapgl": [
           {
            "colorbar": {
             "outlinewidth": 0,
             "ticks": ""
            },
            "colorscale": [
             [
              0,
              "#0d0887"
             ],
             [
              0.1111111111111111,
              "#46039f"
             ],
             [
              0.2222222222222222,
              "#7201a8"
             ],
             [
              0.3333333333333333,
              "#9c179e"
             ],
             [
              0.4444444444444444,
              "#bd3786"
             ],
             [
              0.5555555555555556,
              "#d8576b"
             ],
             [
              0.6666666666666666,
              "#ed7953"
             ],
             [
              0.7777777777777778,
              "#fb9f3a"
             ],
             [
              0.8888888888888888,
              "#fdca26"
             ],
             [
              1,
              "#f0f921"
             ]
            ],
            "type": "heatmapgl"
           }
          ],
          "histogram": [
           {
            "marker": {
             "pattern": {
              "fillmode": "overlay",
              "size": 10,
              "solidity": 0.2
             }
            },
            "type": "histogram"
           }
          ],
          "histogram2d": [
           {
            "colorbar": {
             "outlinewidth": 0,
             "ticks": ""
            },
            "colorscale": [
             [
              0,
              "#0d0887"
             ],
             [
              0.1111111111111111,
              "#46039f"
             ],
             [
              0.2222222222222222,
              "#7201a8"
             ],
             [
              0.3333333333333333,
              "#9c179e"
             ],
             [
              0.4444444444444444,
              "#bd3786"
             ],
             [
              0.5555555555555556,
              "#d8576b"
             ],
             [
              0.6666666666666666,
              "#ed7953"
             ],
             [
              0.7777777777777778,
              "#fb9f3a"
             ],
             [
              0.8888888888888888,
              "#fdca26"
             ],
             [
              1,
              "#f0f921"
             ]
            ],
            "type": "histogram2d"
           }
          ],
          "histogram2dcontour": [
           {
            "colorbar": {
             "outlinewidth": 0,
             "ticks": ""
            },
            "colorscale": [
             [
              0,
              "#0d0887"
             ],
             [
              0.1111111111111111,
              "#46039f"
             ],
             [
              0.2222222222222222,
              "#7201a8"
             ],
             [
              0.3333333333333333,
              "#9c179e"
             ],
             [
              0.4444444444444444,
              "#bd3786"
             ],
             [
              0.5555555555555556,
              "#d8576b"
             ],
             [
              0.6666666666666666,
              "#ed7953"
             ],
             [
              0.7777777777777778,
              "#fb9f3a"
             ],
             [
              0.8888888888888888,
              "#fdca26"
             ],
             [
              1,
              "#f0f921"
             ]
            ],
            "type": "histogram2dcontour"
           }
          ],
          "mesh3d": [
           {
            "colorbar": {
             "outlinewidth": 0,
             "ticks": ""
            },
            "type": "mesh3d"
           }
          ],
          "parcoords": [
           {
            "line": {
             "colorbar": {
              "outlinewidth": 0,
              "ticks": ""
             }
            },
            "type": "parcoords"
           }
          ],
          "pie": [
           {
            "automargin": true,
            "type": "pie"
           }
          ],
          "scatter": [
           {
            "fillpattern": {
             "fillmode": "overlay",
             "size": 10,
             "solidity": 0.2
            },
            "type": "scatter"
           }
          ],
          "scatter3d": [
           {
            "line": {
             "colorbar": {
              "outlinewidth": 0,
              "ticks": ""
             }
            },
            "marker": {
             "colorbar": {
              "outlinewidth": 0,
              "ticks": ""
             }
            },
            "type": "scatter3d"
           }
          ],
          "scattercarpet": [
           {
            "marker": {
             "colorbar": {
              "outlinewidth": 0,
              "ticks": ""
             }
            },
            "type": "scattercarpet"
           }
          ],
          "scattergeo": [
           {
            "marker": {
             "colorbar": {
              "outlinewidth": 0,
              "ticks": ""
             }
            },
            "type": "scattergeo"
           }
          ],
          "scattergl": [
           {
            "marker": {
             "colorbar": {
              "outlinewidth": 0,
              "ticks": ""
             }
            },
            "type": "scattergl"
           }
          ],
          "scattermapbox": [
           {
            "marker": {
             "colorbar": {
              "outlinewidth": 0,
              "ticks": ""
             }
            },
            "type": "scattermapbox"
           }
          ],
          "scatterpolar": [
           {
            "marker": {
             "colorbar": {
              "outlinewidth": 0,
              "ticks": ""
             }
            },
            "type": "scatterpolar"
           }
          ],
          "scatterpolargl": [
           {
            "marker": {
             "colorbar": {
              "outlinewidth": 0,
              "ticks": ""
             }
            },
            "type": "scatterpolargl"
           }
          ],
          "scatterternary": [
           {
            "marker": {
             "colorbar": {
              "outlinewidth": 0,
              "ticks": ""
             }
            },
            "type": "scatterternary"
           }
          ],
          "surface": [
           {
            "colorbar": {
             "outlinewidth": 0,
             "ticks": ""
            },
            "colorscale": [
             [
              0,
              "#0d0887"
             ],
             [
              0.1111111111111111,
              "#46039f"
             ],
             [
              0.2222222222222222,
              "#7201a8"
             ],
             [
              0.3333333333333333,
              "#9c179e"
             ],
             [
              0.4444444444444444,
              "#bd3786"
             ],
             [
              0.5555555555555556,
              "#d8576b"
             ],
             [
              0.6666666666666666,
              "#ed7953"
             ],
             [
              0.7777777777777778,
              "#fb9f3a"
             ],
             [
              0.8888888888888888,
              "#fdca26"
             ],
             [
              1,
              "#f0f921"
             ]
            ],
            "type": "surface"
           }
          ],
          "table": [
           {
            "cells": {
             "fill": {
              "color": "#EBF0F8"
             },
             "line": {
              "color": "white"
             }
            },
            "header": {
             "fill": {
              "color": "#C8D4E3"
             },
             "line": {
              "color": "white"
             }
            },
            "type": "table"
           }
          ]
         },
         "layout": {
          "annotationdefaults": {
           "arrowcolor": "#2a3f5f",
           "arrowhead": 0,
           "arrowwidth": 1
          },
          "autotypenumbers": "strict",
          "coloraxis": {
           "colorbar": {
            "outlinewidth": 0,
            "ticks": ""
           }
          },
          "colorscale": {
           "diverging": [
            [
             0,
             "#8e0152"
            ],
            [
             0.1,
             "#c51b7d"
            ],
            [
             0.2,
             "#de77ae"
            ],
            [
             0.3,
             "#f1b6da"
            ],
            [
             0.4,
             "#fde0ef"
            ],
            [
             0.5,
             "#f7f7f7"
            ],
            [
             0.6,
             "#e6f5d0"
            ],
            [
             0.7,
             "#b8e186"
            ],
            [
             0.8,
             "#7fbc41"
            ],
            [
             0.9,
             "#4d9221"
            ],
            [
             1,
             "#276419"
            ]
           ],
           "sequential": [
            [
             0,
             "#0d0887"
            ],
            [
             0.1111111111111111,
             "#46039f"
            ],
            [
             0.2222222222222222,
             "#7201a8"
            ],
            [
             0.3333333333333333,
             "#9c179e"
            ],
            [
             0.4444444444444444,
             "#bd3786"
            ],
            [
             0.5555555555555556,
             "#d8576b"
            ],
            [
             0.6666666666666666,
             "#ed7953"
            ],
            [
             0.7777777777777778,
             "#fb9f3a"
            ],
            [
             0.8888888888888888,
             "#fdca26"
            ],
            [
             1,
             "#f0f921"
            ]
           ],
           "sequentialminus": [
            [
             0,
             "#0d0887"
            ],
            [
             0.1111111111111111,
             "#46039f"
            ],
            [
             0.2222222222222222,
             "#7201a8"
            ],
            [
             0.3333333333333333,
             "#9c179e"
            ],
            [
             0.4444444444444444,
             "#bd3786"
            ],
            [
             0.5555555555555556,
             "#d8576b"
            ],
            [
             0.6666666666666666,
             "#ed7953"
            ],
            [
             0.7777777777777778,
             "#fb9f3a"
            ],
            [
             0.8888888888888888,
             "#fdca26"
            ],
            [
             1,
             "#f0f921"
            ]
           ]
          },
          "colorway": [
           "#636efa",
           "#EF553B",
           "#00cc96",
           "#ab63fa",
           "#FFA15A",
           "#19d3f3",
           "#FF6692",
           "#B6E880",
           "#FF97FF",
           "#FECB52"
          ],
          "font": {
           "color": "#2a3f5f"
          },
          "geo": {
           "bgcolor": "white",
           "lakecolor": "white",
           "landcolor": "#E5ECF6",
           "showlakes": true,
           "showland": true,
           "subunitcolor": "white"
          },
          "hoverlabel": {
           "align": "left"
          },
          "hovermode": "closest",
          "mapbox": {
           "style": "light"
          },
          "paper_bgcolor": "white",
          "plot_bgcolor": "#E5ECF6",
          "polar": {
           "angularaxis": {
            "gridcolor": "white",
            "linecolor": "white",
            "ticks": ""
           },
           "bgcolor": "#E5ECF6",
           "radialaxis": {
            "gridcolor": "white",
            "linecolor": "white",
            "ticks": ""
           }
          },
          "scene": {
           "xaxis": {
            "backgroundcolor": "#E5ECF6",
            "gridcolor": "white",
            "gridwidth": 2,
            "linecolor": "white",
            "showbackground": true,
            "ticks": "",
            "zerolinecolor": "white"
           },
           "yaxis": {
            "backgroundcolor": "#E5ECF6",
            "gridcolor": "white",
            "gridwidth": 2,
            "linecolor": "white",
            "showbackground": true,
            "ticks": "",
            "zerolinecolor": "white"
           },
           "zaxis": {
            "backgroundcolor": "#E5ECF6",
            "gridcolor": "white",
            "gridwidth": 2,
            "linecolor": "white",
            "showbackground": true,
            "ticks": "",
            "zerolinecolor": "white"
           }
          },
          "shapedefaults": {
           "line": {
            "color": "#2a3f5f"
           }
          },
          "ternary": {
           "aaxis": {
            "gridcolor": "white",
            "linecolor": "white",
            "ticks": ""
           },
           "baxis": {
            "gridcolor": "white",
            "linecolor": "white",
            "ticks": ""
           },
           "bgcolor": "#E5ECF6",
           "caxis": {
            "gridcolor": "white",
            "linecolor": "white",
            "ticks": ""
           }
          },
          "title": {
           "x": 0.05
          },
          "xaxis": {
           "automargin": true,
           "gridcolor": "white",
           "linecolor": "white",
           "ticks": "",
           "title": {
            "standoff": 15
           },
           "zerolinecolor": "white",
           "zerolinewidth": 2
          },
          "yaxis": {
           "automargin": true,
           "gridcolor": "white",
           "linecolor": "white",
           "ticks": "",
           "title": {
            "standoff": 15
           },
           "zerolinecolor": "white",
           "zerolinewidth": 2
          }
         }
        },
        "title": {
         "text": "Timeline of citations coming and goind to open journals"
        },
        "xaxis": {
         "anchor": "y",
         "autorange": true,
         "domain": [
          0,
          1
         ],
         "range": [
          1953.5,
          2024.5
         ],
         "rangeslider": {
          "autorange": true,
          "range": [
           1953.5,
           2024.5
          ],
          "visible": true,
          "yaxis": {
           "_template": null,
           "rangemode": "match"
          }
         },
         "title": {
          "text": "year"
         },
         "type": "linear"
        },
        "yaxis": {
         "anchor": "x",
         "autorange": true,
         "domain": [
          0,
          1
         ],
         "range": [
          0,
          3923201.052631579
         ],
         "title": {
          "text": "citation_count"
         },
         "type": "linear"
        }
       }
      },
      "image/png": "[encoded data removed]",
      "text/html": [
       "<div>                            <div id=\"cc4ee70f-4740-42c8-9444-ef1bea9de595\" class=\"plotly-graph-div\" style=\"height:600px; width:100%;\"></div>            <script type=\"text/javascript\">                require([\"plotly\"], function(Plotly) {                    window.PLOTLYENV=window.PLOTLYENV || {};                                    if (document.getElementById(\"cc4ee70f-4740-42c8-9444-ef1bea9de595\")) {                    Plotly.newPlot(                        \"cc4ee70f-4740-42c8-9444-ef1bea9de595\",                        [{\"alignmentgroup\":\"True\",\"hovertemplate\":\"year=%{x}<br>citation_count=%{marker.color}<extra></extra>\",\"legendgroup\":\"\",\"marker\":{\"color\":[4,7,5,9,14,7,18,13,31,24,39,26,3,27,25,103,1796,17,44,28,29,38,62,31,50,55,37,77,34,55,53,49,77,74,102,98,64,55,45,97,48,84,221,216,262,525,513,622,1053,1328,1785,4032,6405,9847,17054,25930,43699,76982,120619,157273,225960,283926,347488,540827,842554,1240765,2151218,3727041,715366,868,375],\"coloraxis\":\"coloraxis\",\"pattern\":{\"shape\":\"\"}},\"name\":\"\",\"offsetgroup\":\"\",\"orientation\":\"v\",\"showlegend\":false,\"textposition\":\"auto\",\"x\":[1954,1955,1956,1957,1958,1959,1960,1961,1962,1963,1964,1965,1966,1967,1968,1969,1970,1971,1972,1973,1974,1975,1976,1977,1978,1979,1980,1981,1982,1983,1984,1985,1986,1987,1988,1989,1990,1991,1992,1993,1994,1995,1996,1997,1998,1999,2000,2001,2002,2003,2004,2005,2006,2007,2008,2009,2010,2011,2012,2013,2014,2015,2016,2017,2018,2019,2020,2021,2022,2023,2024],\"xaxis\":\"x\",\"y\":[4,7,5,9,14,7,18,13,31,24,39,26,3,27,25,103,1796,17,44,28,29,38,62,31,50,55,37,77,34,55,53,49,77,74,102,98,64,55,45,97,48,84,221,216,262,525,513,622,1053,1328,1785,4032,6405,9847,17054,25930,43699,76982,120619,157273,225960,283926,347488,540827,842554,1240765,2151218,3727041,715366,868,375],\"yaxis\":\"y\",\"type\":\"bar\"}],                        {\"template\":{\"data\":{\"histogram2dcontour\":[{\"type\":\"histogram2dcontour\",\"colorbar\":{\"outlinewidth\":0,\"ticks\":\"\"},\"colorscale\":[[0.0,\"#0d0887\"],[0.1111111111111111,\"#46039f\"],[0.2222222222222222,\"#7201a8\"],[0.3333333333333333,\"#9c179e\"],[0.4444444444444444,\"#bd3786\"],[0.5555555555555556,\"#d8576b\"],[0.6666666666666666,\"#ed7953\"],[0.7777777777777778,\"#fb9f3a\"],[0.8888888888888888,\"#fdca26\"],[1.0,\"#f0f921\"]]}],\"choropleth\":[{\"type\":\"choropleth\",\"colorbar\":{\"outlinewidth\":0,\"ticks\":\"\"}}],\"histogram2d\":[{\"type\":\"histogram2d\",\"colorbar\":{\"outlinewidth\":0,\"ticks\":\"\"},\"colorscale\":[[0.0,\"#0d0887\"],[0.1111111111111111,\"#46039f\"],[0.2222222222222222,\"#7201a8\"],[0.3333333333333333,\"#9c179e\"],[0.4444444444444444,\"#bd3786\"],[0.5555555555555556,\"#d8576b\"],[0.6666666666666666,\"#ed7953\"],[0.7777777777777778,\"#fb9f3a\"],[0.8888888888888888,\"#fdca26\"],[1.0,\"#f0f921\"]]}],\"heatmap\":[{\"type\":\"heatmap\",\"colorbar\":{\"outlinewidth\":0,\"ticks\":\"\"},\"colorscale\":[[0.0,\"#0d0887\"],[0.1111111111111111,\"#46039f\"],[0.2222222222222222,\"#7201a8\"],[0.3333333333333333,\"#9c179e\"],[0.4444444444444444,\"#bd3786\"],[0.5555555555555556,\"#d8576b\"],[0.6666666666666666,\"#ed7953\"],[0.7777777777777778,\"#fb9f3a\"],[0.8888888888888888,\"#fdca26\"],[1.0,\"#f0f921\"]]}],\"heatmapgl\":[{\"type\":\"heatmapgl\",\"colorbar\":{\"outlinewidth\":0,\"ticks\":\"\"},\"colorscale\":[[0.0,\"#0d0887\"],[0.1111111111111111,\"#46039f\"],[0.2222222222222222,\"#7201a8\"],[0.3333333333333333,\"#9c179e\"],[0.4444444444444444,\"#bd3786\"],[0.5555555555555556,\"#d8576b\"],[0.6666666666666666,\"#ed7953\"],[0.7777777777777778,\"#fb9f3a\"],[0.8888888888888888,\"#fdca26\"],[1.0,\"#f0f921\"]]}],\"contourcarpet\":[{\"type\":\"contourcarpet\",\"colorbar\":{\"outlinewidth\":0,\"ticks\":\"\"}}],\"contour\":[{\"type\":\"contour\",\"colorbar\":{\"outlinewidth\":0,\"ticks\":\"\"},\"colorscale\":[[0.0,\"#0d0887\"],[0.1111111111111111,\"#46039f\"],[0.2222222222222222,\"#7201a8\"],[0.3333333333333333,\"#9c179e\"],[0.4444444444444444,\"#bd3786\"],[0.5555555555555556,\"#d8576b\"],[0.6666666666666666,\"#ed7953\"],[0.7777777777777778,\"#fb9f3a\"],[0.8888888888888888,\"#fdca26\"],[1.0,\"#f0f921\"]]}],\"surface\":[{\"type\":\"surface\",\"colorbar\":{\"outlinewidth\":0,\"ticks\":\"\"},\"colorscale\":[[0.0,\"#0d0887\"],[0.1111111111111111,\"#46039f\"],[0.2222222222222222,\"#7201a8\"],[0.3333333333333333,\"#9c179e\"],[0.4444444444444444,\"#bd3786\"],[0.5555555555555556,\"#d8576b\"],[0.6666666666666666,\"#ed7953\"],[0.7777777777777778,\"#fb9f3a\"],[0.8888888888888888,\"#fdca26\"],[1.0,\"#f0f921\"]]}],\"mesh3d\":[{\"type\":\"mesh3d\",\"colorbar\":{\"outlinewidth\":0,\"ticks\":\"\"}}],\"scatter\":[{\"fillpattern\":{\"fillmode\":\"overlay\",\"size\":10,\"solidity\":0.2},\"type\":\"scatter\"}],\"parcoords\":[{\"type\":\"parcoords\",\"line\":{\"colorbar\":{\"outlinewidth\":0,\"ticks\":\"\"}}}],\"scatterpolargl\":[{\"type\":\"scatterpolargl\",\"marker\":{\"colorbar\":{\"outlinewidth\":0,\"ticks\":\"\"}}}],\"bar\":[{\"error_x\":{\"color\":\"#2a3f5f\"},\"error_y\":{\"color\":\"#2a3f5f\"},\"marker\":{\"line\":{\"color\":\"#E5ECF6\",\"width\":0.5},\"pattern\":{\"fillmode\":\"overlay\",\"size\":10,\"solidity\":0.2}},\"type\":\"bar\"}],\"scattergeo\":[{\"type\":\"scattergeo\",\"marker\":{\"colorbar\":{\"outlinewidth\":0,\"ticks\":\"\"}}}],\"scatterpolar\":[{\"type\":\"scatterpolar\",\"marker\":{\"colorbar\":{\"outlinewidth\":0,\"ticks\":\"\"}}}],\"histogram\":[{\"marker\":{\"pattern\":{\"fillmode\":\"overlay\",\"size\":10,\"solidity\":0.2}},\"type\":\"histogram\"}],\"scattergl\":[{\"type\":\"scattergl\",\"marker\":{\"colorbar\":{\"outlinewidth\":0,\"ticks\":\"\"}}}],\"scatter3d\":[{\"type\":\"scatter3d\",\"line\":{\"colorbar\":{\"outlinewidth\":0,\"ticks\":\"\"}},\"marker\":{\"colorbar\":{\"outlinewidth\":0,\"ticks\":\"\"}}}],\"scattermapbox\":[{\"type\":\"scattermapbox\",\"marker\":{\"colorbar\":{\"outlinewidth\":0,\"ticks\":\"\"}}}],\"scatterternary\":[{\"type\":\"scatterternary\",\"marker\":{\"colorbar\":{\"outlinewidth\":0,\"ticks\":\"\"}}}],\"scattercarpet\":[{\"type\":\"scattercarpet\",\"marker\":{\"colorbar\":{\"outlinewidth\":0,\"ticks\":\"\"}}}],\"carpet\":[{\"aaxis\":{\"endlinecolor\":\"#2a3f5f\",\"gridcolor\":\"white\",\"linecolor\":\"white\",\"minorgridcolor\":\"white\",\"startlinecolor\":\"#2a3f5f\"},\"baxis\":{\"endlinecolor\":\"#2a3f5f\",\"gridcolor\":\"white\",\"linecolor\":\"white\",\"minorgridcolor\":\"white\",\"startlinecolor\":\"#2a3f5f\"},\"type\":\"carpet\"}],\"table\":[{\"cells\":{\"fill\":{\"color\":\"#EBF0F8\"},\"line\":{\"color\":\"white\"}},\"header\":{\"fill\":{\"color\":\"#C8D4E3\"},\"line\":{\"color\":\"white\"}},\"type\":\"table\"}],\"barpolar\":[{\"marker\":{\"line\":{\"color\":\"#E5ECF6\",\"width\":0.5},\"pattern\":{\"fillmode\":\"overlay\",\"size\":10,\"solidity\":0.2}},\"type\":\"barpolar\"}],\"pie\":[{\"automargin\":true,\"type\":\"pie\"}]},\"layout\":{\"autotypenumbers\":\"strict\",\"colorway\":[\"#636efa\",\"#EF553B\",\"#00cc96\",\"#ab63fa\",\"#FFA15A\",\"#19d3f3\",\"#FF6692\",\"#B6E880\",\"#FF97FF\",\"#FECB52\"],\"font\":{\"color\":\"#2a3f5f\"},\"hovermode\":\"closest\",\"hoverlabel\":{\"align\":\"left\"},\"paper_bgcolor\":\"white\",\"plot_bgcolor\":\"#E5ECF6\",\"polar\":{\"bgcolor\":\"#E5ECF6\",\"angularaxis\":{\"gridcolor\":\"white\",\"linecolor\":\"white\",\"ticks\":\"\"},\"radialaxis\":{\"gridcolor\":\"white\",\"linecolor\":\"white\",\"ticks\":\"\"}},\"ternary\":{\"bgcolor\":\"#E5ECF6\",\"aaxis\":{\"gridcolor\":\"white\",\"linecolor\":\"white\",\"ticks\":\"\"},\"baxis\":{\"gridcolor\":\"white\",\"linecolor\":\"white\",\"ticks\":\"\"},\"caxis\":{\"gridcolor\":\"white\",\"linecolor\":\"white\",\"ticks\":\"\"}},\"coloraxis\":{\"colorbar\":{\"outlinewidth\":0,\"ticks\":\"\"}},\"colorscale\":{\"sequential\":[[0.0,\"#0d0887\"],[0.1111111111111111,\"#46039f\"],[0.2222222222222222,\"#7201a8\"],[0.3333333333333333,\"#9c179e\"],[0.4444444444444444,\"#bd3786\"],[0.5555555555555556,\"#d8576b\"],[0.6666666666666666,\"#ed7953\"],[0.7777777777777778,\"#fb9f3a\"],[0.8888888888888888,\"#fdca26\"],[1.0,\"#f0f921\"]],\"sequentialminus\":[[0.0,\"#0d0887\"],[0.1111111111111111,\"#46039f\"],[0.2222222222222222,\"#7201a8\"],[0.3333333333333333,\"#9c179e\"],[0.4444444444444444,\"#bd3786\"],[0.5555555555555556,\"#d8576b\"],[0.6666666666666666,\"#ed7953\"],[0.7777777777777778,\"#fb9f3a\"],[0.8888888888888888,\"#fdca26\"],[1.0,\"#f0f921\"]],\"diverging\":[[0,\"#8e0152\"],[0.1,\"#c51b7d\"],[0.2,\"#de77ae\"],[0.3,\"#f1b6da\"],[0.4,\"#fde0ef\"],[0.5,\"#f7f7f7\"],[0.6,\"#e6f5d0\"],[0.7,\"#b8e186\"],[0.8,\"#7fbc41\"],[0.9,\"#4d9221\"],[1,\"#276419\"]]},\"xaxis\":{\"gridcolor\":\"white\",\"linecolor\":\"white\",\"ticks\":\"\",\"title\":{\"standoff\":15},\"zerolinecolor\":\"white\",\"automargin\":true,\"zerolinewidth\":2},\"yaxis\":{\"gridcolor\":\"white\",\"linecolor\":\"white\",\"ticks\":\"\",\"title\":{\"standoff\":15},\"zerolinecolor\":\"white\",\"automargin\":true,\"zerolinewidth\":2},\"scene\":{\"xaxis\":{\"backgroundcolor\":\"#E5ECF6\",\"gridcolor\":\"white\",\"linecolor\":\"white\",\"showbackground\":true,\"ticks\":\"\",\"zerolinecolor\":\"white\",\"gridwidth\":2},\"yaxis\":{\"backgroundcolor\":\"#E5ECF6\",\"gridcolor\":\"white\",\"linecolor\":\"white\",\"showbackground\":true,\"ticks\":\"\",\"zerolinecolor\":\"white\",\"gridwidth\":2},\"zaxis\":{\"backgroundcolor\":\"#E5ECF6\",\"gridcolor\":\"white\",\"linecolor\":\"white\",\"showbackground\":true,\"ticks\":\"\",\"zerolinecolor\":\"white\",\"gridwidth\":2}},\"shapedefaults\":{\"line\":{\"color\":\"#2a3f5f\"}},\"annotationdefaults\":{\"arrowcolor\":\"#2a3f5f\",\"arrowhead\":0,\"arrowwidth\":1},\"geo\":{\"bgcolor\":\"white\",\"landcolor\":\"#E5ECF6\",\"subunitcolor\":\"white\",\"showland\":true,\"showlakes\":true,\"lakecolor\":\"white\"},\"title\":{\"x\":0.05},\"mapbox\":{\"style\":\"light\"}}},\"xaxis\":{\"anchor\":\"y\",\"domain\":[0.0,1.0],\"title\":{\"text\":\"year\"},\"rangeslider\":{\"visible\":true}},\"yaxis\":{\"anchor\":\"x\",\"domain\":[0.0,1.0],\"title\":{\"text\":\"citation_count\"}},\"coloraxis\":{\"colorbar\":{\"title\":{\"text\":\"citation_count\"}},\"colorscale\":[[0.0,\"#0d0887\"],[0.1111111111111111,\"#46039f\"],[0.2222222222222222,\"#7201a8\"],[0.3333333333333333,\"#9c179e\"],[0.4444444444444444,\"#bd3786\"],[0.5555555555555556,\"#d8576b\"],[0.6666666666666666,\"#ed7953\"],[0.7777777777777778,\"#fb9f3a\"],[0.8888888888888888,\"#fdca26\"],[1.0,\"#f0f921\"]]},\"legend\":{\"tracegroupgap\":0},\"title\":{\"text\":\"Timeline of citations coming and goind to open journals\"},\"barmode\":\"relative\",\"height\":600},                        {\"responsive\": true}                    ).then(function(){\n",
       "                            \n",
       "var gd = document.getElementById('cc4ee70f-4740-42c8-9444-ef1bea9de595');\n",
       "var x = new MutationObserver(function (mutations, observer) {{\n",
       "        var display = window.getComputedStyle(gd).display;\n",
       "        if (!display || display === 'none') {{\n",
       "            console.log([gd, 'removed!']);\n",
       "            Plotly.purge(gd);\n",
       "            observer.disconnect();\n",
       "        }}\n",
       "}});\n",
       "\n",
       "// Listen for the removal of the full notebook cells\n",
       "var notebookContainer = gd.closest('#notebook-container');\n",
       "if (notebookContainer) {{\n",
       "    x.observe(notebookContainer, {childList: true});\n",
       "}}\n",
       "\n",
       "// Listen for the clearing of the current output cell\n",
       "var outputEl = gd.closest('.output');\n",
       "if (outputEl) {{\n",
       "    x.observe(outputEl, {childList: true});\n",
       "}}\n",
       "\n",
       "                        })                };                });            </script>        </div>"
      ]
     },
     "metadata": {},
     "output_type": "display_data"
    }
   ],
   "source": [
    "fig = px.bar(df, x='year', y='citation_count',color='citation_count', height=600,title='Timeline of citations coming and goind to open journals')\n",
    "fig.update_xaxes(rangeslider_visible=True)\n",
    "fig.show()"
   ]
  },
  {
   "cell_type": "markdown",
   "id": "08b733cf-7999-40af-b17f-2e9f1c430db3",
   "metadata": {},
   "source": [
    "Also updated the protocol with final things about my code and generated a notebook for the plotting of the results."
   ]
  },
  {
   "cell_type": "code",
   "execution_count": 7,
   "id": "66423e23-7cb1-434f-bfb9-9825b615022c",
   "metadata": {},
   "outputs": [
    {
     "data": {
      "text/plain": [
       "41926"
      ]
     },
     "execution_count": 7,
     "metadata": {},
     "output_type": "execute_result"
    }
   ],
   "source": [
    "import json\n",
    "\n",
    "f = open('open_cit_w_date_err.json')\n",
    "\n",
    "data = json.load(f)\n",
    "len(data)"
   ]
  },
  {
   "cell_type": "code",
   "execution_count": 9,
   "id": "925b7d62-bb32-42e1-8533-8ab7d80f3fa3",
   "metadata": {},
   "outputs": [
    {
     "ename": "ModuleNotFoundError",
     "evalue": "No module named 'magic'",
     "output_type": "error",
     "traceback": [
      "\u001b[0;31m---------------------------------------------------------------------------\u001b[0m",
      "\u001b[0;31mModuleNotFoundError\u001b[0m                       Traceback (most recent call last)",
      "\u001b[0;32m/var/folders/n4/qyqvpf4n1zv2klhzc8slp7tr0000gn/T/ipykernel_2818/974648134.py\u001b[0m in \u001b[0;36m<module>\u001b[0;34m\u001b[0m\n\u001b[0;32m----> 1\u001b[0;31m \u001b[0;32mimport\u001b[0m \u001b[0mmagic\u001b[0m\u001b[0;34m\u001b[0m\u001b[0;34m\u001b[0m\u001b[0m\n\u001b[0m\u001b[1;32m      2\u001b[0m \u001b[0;34m\u001b[0m\u001b[0m\n\u001b[1;32m      3\u001b[0m \u001b[0mmagic\u001b[0m\u001b[0;34m.\u001b[0m\u001b[0mfrom_file\u001b[0m\u001b[0;34m(\u001b[0m\u001b[0;34m'open_cit_w_date_err.json'\u001b[0m\u001b[0;34m)\u001b[0m\u001b[0;34m\u001b[0m\u001b[0;34m\u001b[0m\u001b[0m\n",
      "\u001b[0;31mModuleNotFoundError\u001b[0m: No module named 'magic'"
     ]
    }
   ],
   "source": [
    "import magic\n",
    "\n",
    "magic.from_file('open_cit_w_date_err.json')"
   ]
  },
  {
   "cell_type": "code",
   "execution_count": 4,
   "id": "5e3e4471-cdd1-4e63-a507-a01b01418638",
   "metadata": {},
   "outputs": [
    {
     "ename": "AttributeError",
     "evalue": "module 'jsonvalidate' has no attribute 'validateFileAsJson'",
     "output_type": "error",
     "traceback": [
      "\u001b[0;31m---------------------------------------------------------------------------\u001b[0m",
      "\u001b[0;31mAttributeError\u001b[0m                            Traceback (most recent call last)",
      "\u001b[0;32m/var/folders/n4/qyqvpf4n1zv2klhzc8slp7tr0000gn/T/ipykernel_6057/36537263.py\u001b[0m in \u001b[0;36m<module>\u001b[0;34m\u001b[0m\n\u001b[1;32m      1\u001b[0m \u001b[0;32mimport\u001b[0m \u001b[0mjsonvalidate\u001b[0m\u001b[0;34m\u001b[0m\u001b[0;34m\u001b[0m\u001b[0m\n\u001b[0;32m----> 2\u001b[0;31m \u001b[0mresult\u001b[0m \u001b[0;34m=\u001b[0m \u001b[0mjsonvalidate\u001b[0m\u001b[0;34m.\u001b[0m\u001b[0mvalidateFileAsJson\u001b[0m\u001b[0;34m(\u001b[0m \u001b[0;34m'open_cit_w_date_err.json'\u001b[0m \u001b[0;34m)\u001b[0m\u001b[0;34m\u001b[0m\u001b[0;34m\u001b[0m\u001b[0m\n\u001b[0m",
      "\u001b[0;31mAttributeError\u001b[0m: module 'jsonvalidate' has no attribute 'validateFileAsJson'"
     ]
    }
   ],
   "source": [
    "import jsonvalidate\n",
    "result = jsonvalidate.validateFileAsJson( 'open_cit_w_date_err.json' )"
   ]
  },
  {
   "cell_type": "markdown",
   "id": "966e4afb-bca8-42f7-a9da-bcdec0ef654a",
   "metadata": {},
   "source": [
    "## <a name=\"23.24.05.2022\"> 23.05.2022 - 24.05.2022: finishing the project</a>"
   ]
  },
  {
   "cell_type": "markdown",
   "id": "0e0152a3-faef-4df3-b368-71d2799346d4",
   "metadata": {},
   "source": [
    "Did the last changes: creating the last versions of DMP, protocol and published the software. Wrote some things in the article. Created the slides."
   ]
  }
 ],
 "metadata": {
  "kernelspec": {
   "display_name": "Python 3 (ipykernel)",
   "language": "python",
   "name": "python3"
  },
  "language_info": {
   "codemirror_mode": {
    "name": "ipython",
    "version": 3
   },
   "file_extension": ".py",
   "mimetype": "text/x-python",
   "name": "python",
   "nbconvert_exporter": "python",
   "pygments_lexer": "ipython3",
   "version": "3.9.10"
  }
 },
 "nbformat": 4,
 "nbformat_minor": 5
}
