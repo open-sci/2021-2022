{
 "cells": [
  {
   "cell_type": "markdown",
   "id": "75da9b0e",
   "metadata": {},
   "source": [
    "# Open Science project 2021-22 personal diary\n",
    "## Team Don't lock up\n",
    "\n",
    "## Research questions:\n",
    "- Which is the coverage, in terms of citations, of the open access journals in DOAJ according to the data available in OpenCitations? \n",
    "- How many citations DOAJ journals receive? \n",
    "- How many citations DOAJ journals do? \n",
    "- How many of these citations involves articles published in open access journals as both citing and cited entities? \n",
    "- What is the trend (increasing? decreasing?) in time of the availability of such citations involving journals in DOAJ?\n",
    "\n",
    "## 28-03-22 and 29-03-22 First research on the topics\n",
    "After agreeing on team members, team name and research questions, the first task at hand is to prepare the abstract for our research, following [Emerald Publishing recommendations](https://www.emeraldgrouppublishing.com/how-to/authoring-editing-reviewing/write-article-abstract).\n",
    "The abstract will have to feature the Purpose of our research, the Study design/methodology/approach, our Findings and the Originality/Value of our research. \n",
    "\n",
    "I did some research on [OpenCitations' COCI](https://opencitations.net/index/coci), [Crossref](https://www.crossref.org/documentation/) and [DOAJ](https://doaj.org/) and try to reformulate the research questions in order to find relevant points to bring to the first team meeting, which we agreed would be before the next lecture, 30/03/22 morning.\n",
    "\n",
    "We will need to address the research questions about DOAJ journals citing and cited articles according to OpenCitations, citations with citing and cited DOIs published in open access journals and finally the presence of trends over time of the availability of such citations in DOAJ journals. \n"
   ]
  },
  {
   "cell_type": "code",
   "execution_count": null,
   "id": "1e1bdb16",
   "metadata": {},
   "outputs": [],
   "source": []
  }
 ],
 "metadata": {
  "kernelspec": {
   "display_name": "Python 3 (ipykernel)",
   "language": "python",
   "name": "python3"
  },
  "language_info": {
   "codemirror_mode": {
    "name": "ipython",
    "version": 3
   },
   "file_extension": ".py",
   "mimetype": "text/x-python",
   "name": "python",
   "nbconvert_exporter": "python",
   "pygments_lexer": "ipython3",
   "version": "3.9.0"
  }
 },
 "nbformat": 4,
 "nbformat_minor": 5
}
