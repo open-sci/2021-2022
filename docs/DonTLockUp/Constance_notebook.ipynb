{
 "cells": [
  {
   "cell_type": "markdown",
   "id": "75da9b0e",
   "metadata": {},
   "source": [
    "# Open Science project 2021-22 personal diary\n",
    "## Team Don't lock up\n",
    "\n",
    "## Research questions:\n",
    "- Which is the coverage, in terms of citations, of the open access journals in DOAJ according to the data available in OpenCitations? \n",
    "- How many citations DOAJ journals receive? \n",
    "- How many citations DOAJ journals do? \n",
    "- How many of these citations involves articles published in open access journals as both citing and cited entities? \n",
    "- What is the trend (increasing? decreasing?) in time of the availability of such citations involving journals in DOAJ?\n",
    "\n",
    "## 28-03-22 and 29-03-22 First research on the topics\n",
    "After agreeing on team members, team name and research questions, the first task at hand is to prepare the abstract for our research, following [Emerald Publishing recommendations](https://www.emeraldgrouppublishing.com/how-to/authoring-editing-reviewing/write-article-abstract).\n",
    "The abstract will have to feature the Purpose of our research, the Study design/methodology/approach, our Findings and the Originality/Value of our research. \n",
    "\n",
    "I did some research on [OpenCitations' COCI](https://opencitations.net/index/coci), [Crossref](https://www.crossref.org/documentation/) and [DOAJ](https://doaj.org/) and try to reformulate the research questions in order to find relevant points to bring to the first team meeting, which we agreed would be before the next lecture, 30/03/22 morning.\n",
    "\n",
    "We will need to address the research questions about DOAJ journals citing and cited articles according to OpenCitations, citations with citing and cited DOIs published in open access journals and finally the presence of trends over time of the availability of such citations in DOAJ journals. \n"
   ]
  },
  {
   "cell_type": "markdown",
   "id": "a6208869",
   "metadata": {},
   "source": [
    "## 30-03-22 First version of the abstract\n",
    "\n",
    "We had a team meeting to write the abstract together. We reflected on the research questions and came up with a first version, to be updated as we continue the project. \n",
    "\n",
    "---\n",
    "### Purpose\n",
    "Citations are always important in scientific research. In the domain of Open Science, the Initiative for Open Citations promotes the availability of data on citations with OpenCitations. *As of March 2021, the fraction of publications with open references has grown from 1% to 87% out of 54.2 million articles with references deposited with Crossref.* ([i4oc.org](https://i4oa.org/))\n",
    "\n",
    "Our goal is to find out \n",
    "* about the coverage of articles from open access journals in DOAJ journals as citing and cited articles,\n",
    "* how many citations do DOAJ journals receive and do, and how many of these citations involve open access articles as both citing and cited entities,\n",
    "* as well as the presence of trends over time of the availability of citations involving articles published in open access journals in DOAJ journals.\n",
    "\n",
    "### Approach\n",
    "We used the data available in OpenCitations, such as the Index of Crossref open DOI-to-DOI citations (COCI). We used the REST API to use the data available in DOAJ and OpenCitations.\n",
    "\n",
    "### Findings\n",
    "We revealed that the coverage of open citations in DOAJ can be improved, and that many of these citations involve articles which are not in open access, but that the trend is still increasing.\n",
    "\n",
    "### Originality\n",
    "Our research is valuable for the open access domain, by revealing trends on the data of DOAJ. In the future more questions can be build on our research.*"
   ]
  },
  {
   "cell_type": "markdown",
   "id": "0912221b",
   "metadata": {},
   "source": [
    "## 06-04-2022 First version of the DMP\n",
    "We held a team meeting on Teams to fill the Data Management Plan together, using the templates offered by Argos. After the general information about the DMP, we filled out information about two datasets, one for the software that we will develop and one for the data that we will produce. \n",
    "\n",
    "It was relatively difficult to answer all of the questions since we have not actually started the research, but it allowed us to think about whihc specific aspects to take into account once we start the project in order to make it compliant to Open Science standards and requirements. \n",
    "We first started filling the Horizon Europe template, but due to some bug that didn't allow us to submit it, we had to use Horizon 2020 and refill it entirely.\n",
    "\n",
    "The vesion 0 of the DMP can be found at [this address](https://doi.org/10.5281/zenodo.6417368)"
   ]
  },
  {
   "cell_type": "code",
   "execution_count": null,
   "id": "4c38b7a2",
   "metadata": {},
   "outputs": [],
   "source": []
  }
 ],
 "metadata": {
  "kernelspec": {
   "display_name": "Python 3 (ipykernel)",
   "language": "python",
   "name": "python3"
  },
  "language_info": {
   "codemirror_mode": {
    "name": "ipython",
    "version": 3
   },
   "file_extension": ".py",
   "mimetype": "text/x-python",
   "name": "python",
   "nbconvert_exporter": "python",
   "pygments_lexer": "ipython3",
   "version": "3.9.0"
  }
 },
 "nbformat": 4,
 "nbformat_minor": 5
}
