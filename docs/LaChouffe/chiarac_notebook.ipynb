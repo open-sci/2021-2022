{
 "cells": [
  {
   "cell_type": "markdown",
   "metadata": {},
   "source": [
    "# Chiara's journal"
   ]
  },
  {
   "cell_type": "markdown",
   "metadata": {},
   "source": [
    "## Table Of Contents:\n",
    "* [Research questions](#researchQ)\n",
    "* [Week one](#first-week)"
   ]
  },
  {
   "cell_type": "markdown",
   "metadata": {},
   "source": [
    "## Research questions <a class=\"anchor\" id=\"researchQ\"></a>\n",
    "\n",
    "- How many articles published in the open access journals in DOAJ are included in Crossref? \n",
    "- How many of these articles include information about their reference lists? \n",
    "- How many references have a DOI specified? \n",
    "- How many of these DOIs have been specified by the publishers? \n",
    "- And how many by Crossref?\n",
    " "
   ]
  },
  {
   "cell_type": "markdown",
   "metadata": {},
   "source": [
    "## Week one <a class=\"anchor\" id=\"first-week\"></a>\n",
    "### Abstract \n",
    "\n",
    "Found an interesting article on the importance of evaluaing accessibility of open data.\n",
    "\n",
    "*It is thus an unfortunate irony that open-science practices are not equally accessible to all scientists. We often lament the paywalls that make research inaccessible to the reader, but we often do not lament the paywalls, in the form of specific barriers to openness, that prevent many scientists from sharing their work in the first place. Accessibility does not happen by accident, but requires us to intentionally evaluate our work, practices, and organizations to ensure that they are accessible. This evaluation is a constant iterative process—and not a one-off decision—to question whether our new praxis has retained the existing structural inequalities of the one before it.*\n",
    "\n",
    "(taken from https://www.americanscientist.org/article/open-science-isnt-always-open-to-all-scientists).\n",
    "\n",
    "* Purpose: \n",
    "The purpose of a study like ours could be to evaluate accessibility and transaparency of information at the state-o-the-art.\n",
    "\n",
    "Why is it worth making research on DOIs? What is the weight of tools like DOJA in the schoolar publishing field? What is the state of curation of articles references? Inquire overlap between DOJA and Crossref, \n",
    "\n",
    "*Davides's text to start with:*\n",
    "\"This research paper inquires how much overlap there is between the articles from Open Access journals in DOAJ and Crossref. Furthermore, we scouted the availability of these articles’ reference lists, the presence of IDs such as DOIs and the entities responsible for their specification. This analysis was carried out by querying the DOAJ and Crossref’s APIs, creating a dataset combining the two. The results reveal that only a small portion(?) of the articles on the DOAJ have relevant information in Crossref, but that most of them have a relevant id (?). Also, most of the information was fiven by Crossref itself(?). This is information is relevant because previous studies were not able to organise this kind of information in an optimal way.\"\n",
    "\n",
    "### Research on DOJA and Crossref\n",
    "\n",
    "#### Crossref\n",
    "\n",
    "Crossref is a not-for-profit membership association which aims at promoting the development and cooperative use of new and innovative technologies to speed and facilitate scientific and other scholarly research\n",
    "Crossref is one of the ten International DOI registration agencies, and allows its members to register the DOIs of their publications\n",
    "Each DOI registered in the Crossref system is associated with a URL to the publication’s webpage and accompanied with the metadata of the publications\n",
    "Crossref provides a REST API to retrieve data about the entities\n",
    " \n",
    "\n",
    "#### DOJA\n",
    "The Directory of Open Access Journals (DOAJ, https://doaj.org/) is an independent index containing more than 17,500 peer-reviewed, open access journals covering all areas of science, technology, medicine, social sciences, arts and humanities\n",
    "\n",
    "In addition to journals, it also **contains basic metadata of more than 7 million journal articles by several publishers from 130 countries**.\n",
    "\n",
    "When using DOJA's **API** note that not all fields will be available on all records. I did some research on their documentation and the internet to understand ho to manage curl requests in python.\n",
    "\n"
   ]
  },
  {
   "cell_type": "markdown",
   "metadata": {},
   "source": []
  },
  {
   "cell_type": "markdown",
   "metadata": {},
   "source": []
  }
 ],
 "metadata": {
  "interpreter": {
   "hash": "aee8b7b246df8f9039afb4144a1f6fd8d2ca17a180786b69acc140d282b71a49"
  },
  "kernelspec": {
   "display_name": "Python 3.9.4 64-bit",
   "language": "python",
   "name": "python3"
  },
  "language_info": {
   "codemirror_mode": {
    "name": "ipython",
    "version": 3
   },
   "file_extension": ".py",
   "mimetype": "text/x-python",
   "name": "python",
   "nbconvert_exporter": "python",
   "pygments_lexer": "ipython3",
   "version": "3.9.4"
  },
  "orig_nbformat": 4
 },
 "nbformat": 4,
 "nbformat_minor": 2
}
