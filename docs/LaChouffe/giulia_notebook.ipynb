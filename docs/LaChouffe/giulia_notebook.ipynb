{
 "cells": [
  {
   "cell_type": "markdown",
   "metadata": {},
   "source": [
    "# Giulia Venditti's notebook"
   ]
  },
  {
   "cell_type": "markdown",
   "metadata": {},
   "source": [
    "## Research Questions\n",
    "\n",
    "* How many articles published in the open access journals in DOAJ are included in Crossref? \n",
    "* How many of these articles include information about their reference lists? \n",
    "* How many references have a DOI specified? How many of these DOIs have been specified by the publishers? \n",
    "* And how many by Crossref?"
   ]
  },
  {
   "cell_type": "markdown",
   "metadata": {},
   "source": [
    "### 28 March 2022 week"
   ]
  },
  {
   "cell_type": "markdown",
   "metadata": {},
   "source": [
    "28/03/2022\n",
    "\n",
    "To write our abstract I thought it might be a good idea to figure out how to structure it and which contents to understand. After reading the sugested article about how to [write an article abstract](https://www.emeraldgrouppublishing.com/how-to/authoring-editing-reviewing/write-article-abstract), I tryied to structure following the four steps that should always be featured:\n",
    "\n",
    "* *Purpose*: This is where you explain ‘why’ you undertook this study. If you are presenting new or novel research, explain the problem that you have solved. If you are building upon previous research, briefly explain why you felt it was important to do so. This is your opportunity to let readers know why you chose to study this topic or problem and its relevance. Let them know what your key argument or main finding is.\n",
    "\n",
    "* *Study design/methodology/approach*: This is ‘how’ you did it. Let readers know exactly what you did to reach your results. For example, did you undertake interviews? Did you carry out an experiment in the lab? What tools, methods, protocols or datasets did you use? \n",
    "\n",
    "* *Findings*: Here you can explain ‘what’ you found during your study, whether it answers the problem you set out to explore, and whether your hypothesis was confirmed. You need to be very clear and direct and give exact figures, rather than generalise.  It’s important not to exaggerate or create an expectation that your paper won’t fulfill. \n",
    "\n",
    "* *Originality/value*: This is your opportunity to provide readers with an analysis of the value of your results. It’s a good idea to ask colleagues whether your analysis is balanced and fair and again, it’s important not to exaggerate. You can also conjecture what future research steps could be. "
   ]
  },
  {
   "cell_type": "markdown",
   "metadata": {},
   "source": [
    "Abstract draft: \n",
    "\n",
    "**Purpose ->** \"With the spread of data in the public domain, the relative advantage of holding data in closed databases has diminished. On the other hand, the data on open citations have innumerable advantages. They can improve the transparency and robustness of science portfolio analysis, improve science policy decision making, stimulate downstream commercial activity, and increase the discoverability of scientific articles. Thus, once sparsely populated, public domain citation databases passed the 1 billion citation mark in February 2021. Our research is therefore aimed at studying how data on open citations are treated by different aggregators and authorities, to evaluate the management of data linked to articles (references) and to have an idea of ​​how much the aggregators communicate with each other in terms of information sharing.\"\n",
    "Bib: [A tipping point for open citation data](https://direct.mit.edu/qss/article/2/2/433/102175/A-tipping-point-for-open-citation-data).\n",
    "\n",
    "**Approach ->** \"Our research paper inquires he articles from Open Access journals in DOAJ and Crossref. Furthermore, we scouted the availability of these articles’ reference lists, the presence of IDs such as DOIs and the entities responsible for their specification. This analysis was carried out by querying the DOAJ and Crossref’s APIs, creating a dataset combining the two.\"\n",
    "\n",
    "**Findings ->** \"The results reveal that only a small portion of the articles on the DOAJ have relevant information in Crossref, but that most of them have a relevant id. Also, most of the information was fiven by Crossref itself.\"\n",
    "\n",
    "**Value ->** \"This is relevant information because it demonstrates the limits of the aggregators and defines possible solutions to evaluate, and therefore improve, the quality of information shared.\""
   ]
  },
  {
   "cell_type": "markdown",
   "metadata": {},
   "source": []
  }
 ],
 "metadata": {
  "language_info": {
   "name": "python"
  },
  "orig_nbformat": 4
 },
 "nbformat": 4,
 "nbformat_minor": 2
}
