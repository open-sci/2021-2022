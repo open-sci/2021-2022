{
 "cells": [
  {
   "cell_type": "markdown",
   "metadata": {},
   "source": [
    "# Giulia Venditti's notebook"
   ]
  },
  {
   "cell_type": "code",
   "execution_count": null,
   "metadata": {},
   "outputs": [],
   "source": [
    "How many articles published in the open access journals in DOAJ are included in Crossref? How many of these articles include information about their reference lists? How many references have a DOI specified? How many of these DOIs have been specified by the publishers? And how many by Crossref?"
   ]
  },
  {
   "cell_type": "markdown",
   "metadata": {},
   "source": [
    "### 28 March 2022 week"
   ]
  },
  {
   "cell_type": "markdown",
   "metadata": {},
   "source": [
    "28/03/2022\n",
    "\n",
    "To write our abstract I thought it might be a good idea to figure out how to structure it and which contents to understand. After reading the sugested article about how to [write an article abstract](https://www.emeraldgrouppublishing.com/how-to/authoring-editing-reviewing/write-article-abstract), I tryied to structure following the four steps that should always be featured:\n",
    "\n",
    "* *Purpose*: This is where you explain ‘why’ you undertook this study. If you are presenting new or novel research, explain the problem that you have solved. If you are building upon previous research, briefly explain why you felt it was important to do so. This is your opportunity to let readers know why you chose to study this topic or problem and its relevance. Let them know what your key argument or main finding is.\n",
    "\n",
    "* *Study design/methodology/approach*: This is ‘how’ you did it. Let readers know exactly what you did to reach your results. For example, did you undertake interviews? Did you carry out an experiment in the lab? What tools, methods, protocols or datasets did you use? \n",
    "\n",
    "* *Findings*: Here you can explain ‘what’ you found during your study, whether it answers the problem you set out to explore, and whether your hypothesis was confirmed. You need to be very clear and direct and give exact figures, rather than generalise.  It’s important not to exaggerate or create an expectation that your paper won’t fulfill. \n",
    "\n",
    "* *Originality/value*: This is your opportunity to provide readers with an analysis of the value of your results. It’s a good idea to ask colleagues whether your analysis is balanced and fair and again, it’s important not to exaggerate. You can also conjecture what future research steps could be. "
   ]
  },
  {
   "cell_type": "markdown",
   "metadata": {},
   "source": [
    "28/03/2022\n",
    "\n",
    "1. how to make an abstract? I reed the article suggest [Write an article abstract](https://www.emeraldgrouppublishing.com/how-to/authoring-editing-reviewing/write-article-abstract)\n",
    "\n",
    "Than i wrote a draft proposal of the Abstract following the 4 steps suggested by the article. \n",
    "\n",
    "**Purpose ->** following this article: [A tipping point for open citation data](https://direct.mit.edu/qss/article/2/2/433/102175/A-tipping-point-for-open-citation-data). Open citation data can improve the transparency and robustness of scientific portfolio analysis, improve science policy decision-making, stimulate downstream commercial activity, and increase the discoverability of scientific articles. Once sparsely populated, public-domain citation databases crossed a threshold of one billion citations in February 2021. Shortly thereafter, the threshold of one billion public domain citations from the Crossref database alone was crossed. As the relative advantage of withholding data in closed databases has diminished with the flood of public domain data, this likely constitutes an irreversible change in the citation data ecosystem. The successes of this movement can guide future open data efforts.\n",
    "\n",
    "**Approach ->** Looking at Davide risearch on DOAJ and Crossref. \"This research paper inquires how much overlap there is between the articles from Open Access journals in DOAJ and Crossref. Furthermore, we scouted the availability of these articles’ reference lists, the presence of IDs such as DOIs and the entities responsible for their specification. This analysis was carried out by querying the DOAJ and Crossref’s APIs, creating a dataset combining the two. The results reveal that only a small portion(?) of the articles on the DOAJ have relevant information in Crossref, but that most of them have a relevant id (?). Also, most of the information was fiven by Crossref itself(?). This is information is relevant because previous studies were not able to organise this kind of information in an optimal way.\"\n",
    "\n",
    "\n"
   ]
  },
  {
   "cell_type": "markdown",
   "metadata": {},
   "source": []
  }
 ],
 "metadata": {
  "language_info": {
   "name": "python"
  },
  "orig_nbformat": 4
 },
 "nbformat": 4,
 "nbformat_minor": 2
}
