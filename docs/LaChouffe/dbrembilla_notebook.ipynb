# Davide Brembilla's Notebook

## 28 March 2022 week
1. Research about the DOAJ

In order to write the abstract about our research question, I researched the DOAJ and Crossref.
I found the [DOAJ's documentation](https://doaj.org/docs). We could exploit the API to get the article metadata in XML format. It also employs [OpenURLs](https://doaj.org/docs/openurl/). 

2. Research about Crossref

Crossref also has an [API](https://www.crossref.org/documentation/retrieve-metadata/rest-api/a-non-technical-introduction-to-our-api/) that we can query, but also provides [data dumps](https://www.crossref.org/blog/new-public-data-file-120-million-metadata-records/) that can be accessed, containing json files with the metadata. The source is massive, so we should consider what the best strategy is.
If we decide to go with the API, we should consider the fact that we can query it in anonymous, Polite or Plus modes.

3. Producing a draft of the abstract

I used this information to create a draft for the abstract, that will be completed with the other group members:

*"This research paper inquires how much overlap there is between the articles from Open Access journals in DOAJ and Crossref. Furthermore, we scouted the availability of these articles’ reference lists, the presence of IDs such as DOIs and the entities responsible for their specification. This analysis was carried out by querying the DOAJ and Crossref’s APIs, creating a dataset combining the two. The results reveal that only a small portion(?) of the articles on the DOAJ have relevant information in Crossref, but that most of them have a relevant id (?). Also, most of the information was fiven by Crossref itself(?). This is information is relevant because previous studies were not able to organise this kind of information in an optimal way."*
