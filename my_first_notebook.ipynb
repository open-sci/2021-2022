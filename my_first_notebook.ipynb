{
 "cells": [
  {
   "cell_type": "markdown",
   "id": "4c180b43-e25c-42fb-abcd-97e2d63d2465",
   "metadata": {},
   "source": [
    "# This is my first heading\n",
    "\n",
    "This is my paragraph. I can add [links](https://google.com) and other *layout (emphasis)* and even **strong enphasis**.\n",
    "\n",
    "Other paragraphs.\n",
    "\n",
    "## Second level headings\n",
    "\n",
    "Other text."
   ]
  },
  {
   "cell_type": "raw",
   "id": "4bb65528-e073-4130-a430-ce7032017ab9",
   "metadata": {},
   "source": [
    "this is just pure row text with no **markup**"
   ]
  },
  {
   "cell_type": "code",
   "execution_count": 2,
   "id": "3fee3550-766d-48d8-a230-03847779568f",
   "metadata": {},
   "outputs": [],
   "source": [
    "def f(x):\n",
    "    return x + 1\n",
    "\n",
    "def g(s):\n",
    "    r = s.replace(\"a\", \"e\")\n",
    "    return r"
   ]
  },
  {
   "cell_type": "raw",
   "id": "2b98a56e-de08-4f97-8838-7ba0e535d811",
   "metadata": {},
   "source": [
    "Other row text"
   ]
  },
  {
   "cell_type": "code",
   "execution_count": 3,
   "id": "9f905dad-72cb-49b6-a24e-d7736cdb4318",
   "metadata": {},
   "outputs": [],
   "source": [
    "x = f(7)\n",
    "y = g(\"ciao\")"
   ]
  },
  {
   "cell_type": "markdown",
   "id": "2911d36c-371d-416d-a162-6483efcc89ea",
   "metadata": {},
   "source": [
    "Just another **test**!"
   ]
  },
  {
   "cell_type": "code",
   "execution_count": 6,
   "id": "1e985177-39b3-49b5-9959-a525ead4ad88",
   "metadata": {},
   "outputs": [
    {
     "data": {
      "text/plain": [
       "8"
      ]
     },
     "execution_count": 6,
     "metadata": {},
     "output_type": "execute_result"
    }
   ],
   "source": [
    "x"
   ]
  },
  {
   "cell_type": "code",
   "execution_count": 7,
   "id": "2fe499ee-cac7-4350-b4e3-d4f08fb067ff",
   "metadata": {},
   "outputs": [
    {
     "data": {
      "text/plain": [
       "'cieo'"
      ]
     },
     "execution_count": 7,
     "metadata": {},
     "output_type": "execute_result"
    }
   ],
   "source": [
    "y"
   ]
  },
  {
   "cell_type": "code",
   "execution_count": null,
   "id": "901b9fa4-7393-42e6-8ac9-c24ef13986b5",
   "metadata": {},
   "outputs": [],
   "source": []
  }
 ],
 "metadata": {
  "kernelspec": {
   "display_name": "Python 3",
   "language": "python",
   "name": "python3"
  },
  "language_info": {
   "codemirror_mode": {
    "name": "ipython",
    "version": 3
   },
   "file_extension": ".py",
   "mimetype": "text/x-python",
   "name": "python",
   "nbconvert_exporter": "python",
   "pygments_lexer": "ipython3",
   "version": "3.9.0"
  }
 },
 "nbformat": 4,
 "nbformat_minor": 5
}
